{
 "cells": [
  {
   "cell_type": "markdown",
   "id": "c7448d9b-63e7-437b-b54f-67983340c206",
   "metadata": {},
   "source": [
    "### Time to get your hands dirty. Galaxy vs quasars\n",
    "\n",
    "We're now going to classify galaxy vs quasars in the Sloan Digital Sky Survey. \n",
    "\n",
    "This is one of the most famous example of machine-learning classification in astronomy. For some recent work see e.g. \n",
    "- *Identifying galaxies, quasars, and stars with machine learning: A new catalogue of classifications for 111 million SDSS sources without spectra* Clarke et al (2019) [arXiv:1909.10963](https://arxiv.org/abs/1909.10963)\n",
    "- *Quasar and galaxy classification in Gaia Data Release 2* Bailer-Jones et al (2019) [arXiv:1910.05255](https://arxiv.org/abs/1910.05255)\n",
    "\n",
    "#### Data\n",
    "\n",
    "The dataset is at `solutions/galaxyquasar.csv`. I have extracted it myself from the SDSS database using the SQL query reported [here](https://www.astroml.org/_modules/astroML/datasets/sdss_galaxy_colors.html#fetch_sdss_galaxy_colors)\n",
    "\n",
    "(If you've never used [SQL](https://en.wikipedia.org/wiki/SQL) and want to learn something new it's computing, it's very powerful)\n",
    "\n",
    "#### Tasks\n",
    "\n",
    "- Create arrays for the $(u-g)$, $(g-r)$, $(r-i)$, and $(i-z)$ colors. Also create an array with the class labels where galaxy=$0$ and quasar=$1$. \n",
    "- Classify the dataset against the target label.\n",
    "- Try some of the classification methods we've seen so far and evaluate the performance using the ROC curve.\n",
    "- Remember to split the dataset into training and validation...\n",
    "\n",
    "#### Ideas\n",
    "- Try using different colors (a subset of them first, than all together). Which is the most important feature?\n",
    "- What are the colors that better satisfy or invalidate the \"Naive\" assumption of independence between the attributes?"
   ]
  },
  {
   "cell_type": "code",
   "execution_count": null,
   "id": "633c8935-2c5e-4da2-adc9-233093e82c79",
   "metadata": {},
   "outputs": [],
   "source": [
    "import pandas as pd\n",
    "from matplotlib import pyplot as plt\n",
    "from sklearn.preprocessing import LabelEncoder\n",
    "import seaborn as sns\n",
    "from sklearn.decomposition import PCA\n",
    "import numpy as np\n",
    "from sklearn.model_selection import train_test_split\n",
    "from sklearn.preprocessing import StandardScaler\n",
    "\n",
    "from sklearn.naive_bayes import GaussianNB\n",
    "from sklearn.discriminant_analysis import (LinearDiscriminantAnalysis,\n",
    "                                           QuadraticDiscriminantAnalysis)\n",
    "from sklearn.linear_model import LogisticRegression\n",
    "from sklearn.neighbors import KNeighborsClassifier\n",
    "from sklearn.tree import DecisionTreeClassifier\n",
    "from astroML.classification import GMMBayes\n",
    "from sklearn.ensemble import RandomForestClassifier\n",
    "from sklearn.metrics import roc_curve\n",
    "from sklearn.metrics import precision_recall_curve\n",
    "\n",
    "from astroML.utils import split_samples, completeness_contamination\n",
    "import corner\n",
    "import warnings\n",
    "warnings.simplefilter('ignore')"
   ]
  },
  {
   "cell_type": "code",
   "execution_count": null,
   "id": "aec0e833-44f0-4bdd-b71b-b19030cd2ef5",
   "metadata": {},
   "outputs": [],
   "source": [
    "def compute_models(*args):\n",
    "    names = []\n",
    "    probs = []\n",
    "    for classifier, kwargs in args:\n",
    "        #print(classifier.__name__)\n",
    "        clf = classifier(**kwargs)\n",
    "        clf.fit(X_train, y_train)\n",
    "        \n",
    "        #Note that we are outputing the probabilities [of class 1], not the classes\n",
    "        y_probs = clf.predict_proba(X_test)[:, 1]\n",
    "\n",
    "        names.append(classifier.__name__)\n",
    "        probs.append(y_probs)\n",
    "\n",
    "    return names, probs"
   ]
  },
  {
   "cell_type": "code",
   "execution_count": null,
   "id": "d2a6e2bf-c669-4050-a106-07d9d0394e20",
   "metadata": {},
   "outputs": [],
   "source": [
    "def plot_roc(y_t):\n",
    "    names, probs = compute_models((GaussianNB, {}),\n",
    "                              (LinearDiscriminantAnalysis, {}),\n",
    "                              (QuadraticDiscriminantAnalysis, {}),\n",
    "                              (LogisticRegression,\n",
    "                               dict(class_weight='balanced')),\n",
    "                              (KNeighborsClassifier,\n",
    "                               dict(n_neighbors=10)),\n",
    "                              (DecisionTreeClassifier,\n",
    "                               dict(random_state=0, max_depth=12,\n",
    "                                    criterion='entropy')),\n",
    "                              (GMMBayes, dict(n_components=3, tol=1E-5,\n",
    "                                              covariance_type='full')))\n",
    "    labels = dict(GaussianNB='GNB',\n",
    "              LinearDiscriminantAnalysis='LDA',\n",
    "              QuadraticDiscriminantAnalysis='QDA',\n",
    "              KNeighborsClassifier='KNN',\n",
    "              DecisionTreeClassifier='DT',\n",
    "              GMMBayes='GMMB',\n",
    "              LogisticRegression='LR')\n",
    "    \n",
    "    fig = plt.figure(figsize=(15, 5))\n",
    "    fig.subplots_adjust(left=0.1, right=0.95, bottom=0.15, top=0.9, wspace=0.25)\n",
    "\n",
    "# ax1 will show roc curves\n",
    "    ax1 = plt.subplot(131)\n",
    "\n",
    "# ax2 will show completeness/efficiency\n",
    "    ax2 = plt.subplot(132)\n",
    "\n",
    "# ax3 will show precision/recall\n",
    "# ax3 = plt.subplot(133)\n",
    "\n",
    "    thresholds = np.linspace(0, 1, 1001)[:-1]\n",
    "\n",
    "# iterate through and show results\n",
    "    for name, y_prob in zip(names, probs):\n",
    "        fpr, tpr, thresh = roc_curve(y_t, y_prob)\n",
    "        precision, recall, thresh2 = precision_recall_curve(y_t, y_prob)\n",
    "\n",
    "        # add (0, 0) as first point\n",
    "        fpr = np.concatenate([[0], fpr])\n",
    "        tpr = np.concatenate([[0], tpr])\n",
    "        # Here we add (1,0) \n",
    "        precision = np.concatenate([[0], precision])\n",
    "        recall = np.concatenate([[1], recall])\n",
    "        thresh2 = np.concatenate([[0], thresh2])\n",
    "\n",
    "        ax1.plot(fpr, tpr, label=labels[name])\n",
    "    \n",
    "        #See note above about astroML vs. sklearn\n",
    "        #Note that the range of threshhold values here is 0% to 100% (0.0 to 1.0)\n",
    "        comp = np.zeros_like(thresholds)\n",
    "        cont = np.zeros_like(thresholds)\n",
    "        for i, t in enumerate(thresholds):\n",
    "            y_pred = (y_prob >= t)\n",
    "            comp[i], cont[i] = completeness_contamination(y_pred, y_t)\n",
    "        ax2.plot(1 - cont, comp, label=labels[name])\n",
    "        \n",
    "    #ax3.plot(precision, recall, label=labels[name])\n",
    "\n",
    "    ax1.set_xlim(0, 0.04)\n",
    "    ax1.set_ylim(0.7, 1.02)\n",
    "    ax1.xaxis.set_major_locator(plt.MaxNLocator(5))\n",
    "    ax1.set_xlabel('false positive rate')\n",
    "    ax1.set_ylabel('true positive rate')\n",
    "    ax1.legend(loc=4)\n",
    "    \n",
    "    ax2.set_xlabel('efficiency')\n",
    "    ax2.set_ylabel('completeness')\n",
    "    ax2.set_xlim(0, 1.0)\n",
    "    ax2.set_ylim(0.7, 1.02)\n",
    "    \n",
    "    #ax3.set_xlabel('precision')\n",
    "    #ax3.set_ylabel('recall')\n",
    "    #ax3.set_xlim(0, 1.0)\n",
    "    #ax3.set_ylim(0.2, 1.02)\n",
    "    \n",
    "    plt.show()"
   ]
  },
  {
   "cell_type": "code",
   "execution_count": null,
   "id": "5cce72f6-0a18-421c-a439-bd594bf41d94",
   "metadata": {},
   "outputs": [],
   "source": [
    "df = pd.read_csv(\"../solutions/galaxyquasar.csv\")\n",
    "df"
   ]
  },
  {
   "cell_type": "code",
   "execution_count": null,
   "id": "cab84ddb-84a0-4ad1-9550-4dac85b180a9",
   "metadata": {},
   "outputs": [],
   "source": [
    "df['u-g'] = df['u']- df['g'] \n",
    "df['g-r'] = df['g']- df['r'] \n",
    "df['r-i'] = df['r']- df['i']\n",
    "df['i-z'] = df['i']- df['z']"
   ]
  },
  {
   "cell_type": "code",
   "execution_count": null,
   "id": "c930184f-9e80-4429-a94b-35901887277f",
   "metadata": {},
   "outputs": [],
   "source": [
    "le = LabelEncoder()\n",
    "# Assign unique integers: 1 QSO, 0 galaxy\n",
    "df['class'] = le.fit_transform(df['class'] )\n",
    "labels_class = le.inverse_transform(df['class'] )\n",
    "class_names = le.classes_\n",
    "print('Class names: ', class_names)\n",
    "print('Labels: ', labels_class)"
   ]
  },
  {
   "cell_type": "code",
   "execution_count": null,
   "id": "e0750d10-238c-47a0-a030-ece196eff003",
   "metadata": {},
   "outputs": [],
   "source": [
    "(X_train, X_test), (y_train, y_test) = split_samples( df.loc[:, 'u-g':'g-r'], df['class'], [0.75, 0.25], random_state=0)\n",
    "\n",
    "plot_roc(y_test)"
   ]
  },
  {
   "cell_type": "code",
   "execution_count": null,
   "id": "81ee2a47-a217-40ff-876f-22f5681037d2",
   "metadata": {},
   "outputs": [],
   "source": [
    "(X_train, X_test), (y_train, y_test) = split_samples( df.loc[:, 'u-g':'r-i'], df['class'], [0.75, 0.25], random_state=0)\n",
    "\n",
    "plot_roc(y_test)"
   ]
  },
  {
   "cell_type": "code",
   "execution_count": null,
   "id": "76dd9fc5-3554-4055-9dc6-c63d821fd4fc",
   "metadata": {},
   "outputs": [],
   "source": [
    "(X_train, X_test), (y_train, y_test) = split_samples( df.loc[:, 'u-g':'i-z'], df['class'], [0.75, 0.25], random_state=0)\n",
    "\n",
    "plot_roc(y_test)"
   ]
  },
  {
   "cell_type": "code",
   "execution_count": null,
   "id": "819eead7-2eed-4fb6-bc66-b609df361b43",
   "metadata": {},
   "outputs": [],
   "source": [
    "corner.corner((df.loc[:, 'u-g':'i-z']), labels=['u-g', 'g-r', 'r-i', 'i-z']);"
   ]
  },
  {
   "cell_type": "code",
   "execution_count": null,
   "id": "26ead56b-91be-4560-8025-3e9e9090108b",
   "metadata": {},
   "outputs": [],
   "source": [
    "plt.hist(df.loc[:, 'u-g'], bins = 50, histtype = 'step', label = 'all data')\n",
    "plt.hist(df.loc[:, 'u-g'][labels_class=='QSO'], bins = 50, label = 'QSO')\n",
    "plt.hist(df.loc[:, 'u-g'][labels_class=='GALAXY'], bins = 50, label = 'GALAXY')\n",
    "plt.xlim(-1,3)\n",
    "plt.legend();"
   ]
  },
  {
   "cell_type": "code",
   "execution_count": null,
   "id": "3b28fd48-9503-4ff7-a1f7-a478d232438c",
   "metadata": {},
   "outputs": [],
   "source": [
    "names = [\n",
    "    GaussianNB(),\n",
    "    LinearDiscriminantAnalysis(),\n",
    "    QuadraticDiscriminantAnalysis(),\n",
    "    LogisticRegression(),\n",
    "    KNeighborsClassifier(),\n",
    "    DecisionTreeClassifier(),\n",
    "    GMMBayes(),\n",
    "    RandomForestClassifier()\n",
    "]"
   ]
  },
  {
   "cell_type": "code",
   "execution_count": 175,
   "id": "c3d3301e-bd18-4b80-9028-657f1105417c",
   "metadata": {},
   "outputs": [
    {
     "data": {
      "image/png": "[encoded data removed]",
      "text/plain": [
       "<Figure size 1600x1200 with 8 Axes>"
      ]
     },
     "metadata": {},
     "output_type": "display_data"
    },
    {
     "data": {
      "text/plain": [
       "<Figure size 1200x600 with 0 Axes>"
      ]
     },
     "metadata": {},
     "output_type": "display_data"
    },
    {
     "data": {
      "text/plain": [
       "<Figure size 1200x600 with 0 Axes>"
      ]
     },
     "metadata": {},
     "output_type": "display_data"
    },
    {
     "data": {
      "text/plain": [
       "<Figure size 1200x600 with 0 Axes>"
      ]
     },
     "metadata": {},
     "output_type": "display_data"
    },
    {
     "data": {
      "text/plain": [
       "<Figure size 1200x600 with 0 Axes>"
      ]
     },
     "metadata": {},
     "output_type": "display_data"
    },
    {
     "data": {
      "text/plain": [
       "<Figure size 1200x600 with 0 Axes>"
      ]
     },
     "metadata": {},
     "output_type": "display_data"
    },
    {
     "data": {
      "text/plain": [
       "<Figure size 1200x600 with 0 Axes>"
      ]
     },
     "metadata": {},
     "output_type": "display_data"
    },
    {
     "data": {
      "text/plain": [
       "<Figure size 1200x600 with 0 Axes>"
      ]
     },
     "metadata": {},
     "output_type": "display_data"
    },
    {
     "data": {
      "text/plain": [
       "<Figure size 1200x600 with 0 Axes>"
      ]
     },
     "metadata": {},
     "output_type": "display_data"
    }
   ],
   "source": [
    "clf = GaussianNB()\n",
    "(X_train, X_test), (y_train, y_test) = split_samples( df.loc[:, 'u-g':'i-z'], df['class'], [0.75, 0.25], random_state=0)\n",
    "\n",
    "\n",
    "fig, axes = plt.subplots(2, 4, figsize=(16, 12))\n",
    "for idx, clf in enumerate(names):\n",
    "    fig = plt.figure(figsize =(12,6))\n",
    "    for i in range(4):\n",
    "        clf.fit(X_train[:, 0:i+1], y_train)\n",
    "        y_prob = clf.predict_proba(X_test[:,0:i+1]) [:,1]     \n",
    "        fpr, tpr, thresh = roc_curve(y_test, y_prob)\n",
    "        if idx%2 == 0:\n",
    "            axes[int(np.floor(idx/4))][int(idx/2)].plot(fpr, tpr, label='N features = ' +str(i+1))\n",
    "        else:\n",
    "            axes[int(np.floor(idx/4))][int(idx%2)].plot(fpr, tpr, label='N features = ' +str(i+1))\n",
    "    #axes[idx%2][idx].set_ylim(0.9, 1.02)\n",
    "    #plt.legend()\n",
    "\n",
    "plt.show()\n"
   ]
  },
  {
   "cell_type": "code",
   "execution_count": null,
   "id": "3159c595-9e16-41fe-a2e3-3de9afce300f",
   "metadata": {},
   "outputs": [],
   "source": []
  }
 ],
 "metadata": {
  "kernelspec": {
   "display_name": "Python 3 (ipykernel)",
   "language": "python",
   "name": "python3"
  },
  "language_info": {
   "codemirror_mode": {
    "name": "ipython",
    "version": 3
   },
   "file_extension": ".py",
   "mimetype": "text/x-python",
   "name": "python",
   "nbconvert_exporter": "python",
   "pygments_lexer": "ipython3",
   "version": "3.11.6"
  }
 },
 "nbformat": 4,
 "nbformat_minor": 5
}
