{
 "cells": [
  {
   "cell_type": "markdown",
   "id": "3c013c6d-b865-469f-895d-b8111fb1c79b",
   "metadata": {},
   "source": [
    "### Time to get your hands dirty! Planning a telescope observation\n",
    "\n",
    "\n",
    "Let's build your first Markov Chain! \n",
    "\n",
    "You are a real astronomer (not a theory guy like me) and are planning an expensive observational campaign. You want to know how likely it is that tomorrow night will be clear given the weather tonight (clear or cloudy). The key piece of information here is that the weather tomorrow depends on the weather today. From past history, you know that:\n",
    "\n",
    "$$p({\\rm clear \\; tomorrow} \\, |\\,  {\\rm cloudy \\; today}) = 0.5,$$\n",
    "\n",
    "which means that\n",
    "\n",
    "$$p({\\rm cloudy \\; tomorrow} \\, |\\, {\\rm cloudy \\; today}) = 0.5.$$\n",
    "\n",
    "We also have\n",
    "\n",
    "$$p({\\rm cloudy \\; tomorrow} \\, |\\, {\\rm clear \\; today}) = 0.1,$$\n",
    "\n",
    "which means that\n",
    "\n",
    "$$p({\\rm clear \\; tomorrow} \\, |\\, {\\rm clear \\; today}) = 0.9.$$\n",
    "\n",
    "\n",
    "- We can start with the sky conditions today and make predictions going forward more and more into the future.\n",
    "- This will look like a big decision tree. \n",
    "- After enough days, we'll reach equilibrium probabilities that have to do with the mean weather statistics (ignoring seasons) and we'll arrive at\n",
    "\n",
    "$$p({\\rm clear}) = 0.83,$$\n",
    "\n",
    "and \n",
    "\n",
    "$$p({\\rm cloudy}) = 0.17.$$\n",
    "\n",
    "You get the same answer for day $N$ as day $N+1$ and it doesn't matter whether it was clear or cloudy on the day that you started. The steps that we have taken in this process are, indeed, a **MARKOV CHAIN**.\n",
    "\n",
    "Here is an illustration of this process from an article in [towarddatascience.com](https://towardsdatascience.com/introduction-to-markov-chains-50da3645a50d).\n",
    "\n",
    "![image.png](https://miro.medium.com/max/416/1*frksGjINf5oTjx7WL81U3w.png)\n",
    "\n",
    "#### Tasks\n",
    "\n",
    "- Start off on a cloud day. \n",
    "- Implement your weather forecast based on the above probabilities\n",
    "- Run your simulator for N days (with $N\\gtrsim 10^4$)\n",
    "- Prepare a plot with the number of days on the x axis and the cumulative fraction of, say, sunny days over the number of days so far on the y axis. This is called a **trace-plot**, showing how our estimate of $p(\\mathrm{clear})$ evolves as the chain samples.  \n",
    "- Prepare a histogram of the above plot. This reveals the distribution of $p(\\mathrm{clear})$.\n",
    "- Use a summary statistics to determine the most likely value and an error on our estimate.\n",
    "\n",
    "**Important:** \n",
    "- In MCMC the process must be **stationary** which basically means that the chain statistics look the same no matter which chunk you look at, e.g. first half, second half, or every other point, etc.  \n",
    "- Obviously that isn't going to be the case in the early steps of the chain. In our example above, after some time the process was stationary, but not in the first few days.\n",
    "- So, there is a **burn-in** phase that needs to be discarded. How one determines the number of early steps to discard as burn-in is tricky, but ***you should always start with a traceplot of your samples!***\n",
    "\n",
    "\n",
    "#### Tasks\n",
    "\n",
    "- In the above example, experiment with chopping off different numbers of initial points as burn-in.\n",
    "\n",
    "\n",
    "#### More\n",
    "\n",
    "- Redo the same for the Markovian process describing the stock market (see above in this notebook). If you've written your code well, this should require minor modifications."
   ]
  },
  {
   "cell_type": "code",
   "execution_count": 1,
   "id": "42c3a683-1ddb-4fc7-96ea-11ffed47c2d1",
   "metadata": {},
   "outputs": [],
   "source": [
    "import numpy as np\n",
    "from matplotlib import pyplot as plt\n",
    "import random\n",
    "import astroML.stats"
   ]
  },
  {
   "cell_type": "markdown",
   "id": "a08b82d5-aaa5-4812-91c8-d64a5a4bc8fd",
   "metadata": {},
   "source": [
    "### 1. Cloud or Sunny"
   ]
  },
  {
   "cell_type": "markdown",
   "id": "f29a7300-e8fa-4f6f-bc6d-96e65569dad5",
   "metadata": {},
   "source": [
    "Conditional probabilities"
   ]
  },
  {
   "cell_type": "code",
   "execution_count": 2,
   "id": "89ef8cad-2f71-4cc3-9156-267ca7ac19dc",
   "metadata": {},
   "outputs": [],
   "source": [
    "#ref{nomenclatura by Bea}\n",
    "psc = 0.5\n",
    "pcc = 0.5\n",
    "pcs = 0.1\n",
    "pss = 0.9"
   ]
  },
  {
   "cell_type": "markdown",
   "id": "ed599389-7e36-4af1-9024-4d24e607d78a",
   "metadata": {},
   "source": [
    "Markov Chain implementation: for 10000 steps, I extract a case between cloud or sunny and I accept it or refuse it with respect to the conditional probabilities."
   ]
  },
  {
   "cell_type": "code",
   "execution_count": 3,
   "id": "212f282a-213a-4987-bd38-5a8fdb58f5da",
   "metadata": {},
   "outputs": [],
   "source": [
    "current = 0 #where 0 represent cloudy\n",
    "trace = []\n",
    "trace.append(current)\n",
    "for _ in range(10000):\n",
    "    previous = current\n",
    "    proposal = random.randint(0,1)\n",
    "    x = random.uniform(0,1)\n",
    "    if (previous == 0) and (proposal == 0):\n",
    "        if x < pcc:\n",
    "            current = proposal\n",
    "    if (previous == 0) and (proposal == 1):\n",
    "        if x < psc:\n",
    "            current = proposal\n",
    "    if (previous == 1) and (proposal == 0):\n",
    "        if x < pcs:\n",
    "            current = proposal\n",
    "    if (previous == 1) and (proposal == 1):\n",
    "        if x < pss:\n",
    "            current = proposal\n",
    "    trace.append(current)"
   ]
  },
  {
   "cell_type": "markdown",
   "id": "6703101b-f195-4e89-b47d-e7cc4f851270",
   "metadata": {},
   "source": [
    "Plotting the trace obtained from the Markov Chain"
   ]
  },
  {
   "cell_type": "code",
   "execution_count": 4,
   "id": "556a800e-bcbc-404e-964c-2dd106f74ee3",
   "metadata": {},
   "outputs": [
    {
     "data": {
      "image/png": "[encoded data removed]",
      "text/plain": [
       "<Figure size 640x480 with 1 Axes>"
      ]
     },
     "metadata": {},
     "output_type": "display_data"
    }
   ],
   "source": [
    "trace = np.array(trace)\n",
    "cumulative = np.cumsum(trace)/(np.arange(trace.shape[0])+1)\n",
    "plt.plot(cumulative)\n",
    "plt.xlabel('N days')\n",
    "plt.ylabel('Trace')\n",
    "plt.show()"
   ]
  },
  {
   "cell_type": "markdown",
   "id": "da8ef020-8edc-4455-aea3-fbbea0f39510",
   "metadata": {},
   "source": [
    "Computing the sunny (cloud) probability"
   ]
  },
  {
   "cell_type": "code",
   "execution_count": 5,
   "id": "a7d2b45e-9096-4544-9a16-fd35a7f09e5d",
   "metadata": {},
   "outputs": [
    {
     "name": "stdout",
     "output_type": "stream",
     "text": [
      "0.8401159884011599 0.15988401159884014\n"
     ]
    }
   ],
   "source": [
    "prob_sun = sum(trace)/len(trace)\n",
    "prob_clouds = 1-prob_sun\n",
    "print(prob_sun, prob_clouds)"
   ]
  },
  {
   "cell_type": "markdown",
   "id": "3a000d31-d395-4717-a562-c03bbd27dbee",
   "metadata": {},
   "source": [
    "Plotting histogram of trace: as we can see, the first steps are not stationary, therefore, is necessary to exclude them"
   ]
  },
  {
   "cell_type": "code",
   "execution_count": 6,
   "id": "c7580443-aa05-4ef8-b7c4-45a993d44c28",
   "metadata": {},
   "outputs": [
    {
     "data": {
      "image/png": "[encoded data removed]",
      "text/plain": [
       "<Figure size 640x480 with 1 Axes>"
      ]
     },
     "metadata": {},
     "output_type": "display_data"
    }
   ],
   "source": [
    "plt.hist(cumulative, bins=300, density = True, alpha=0.4);"
   ]
  },
  {
   "cell_type": "code",
   "execution_count": 7,
   "id": "a17c5605-d90c-4eee-bdd4-5f046f806a17",
   "metadata": {},
   "outputs": [
    {
     "name": "stdout",
     "output_type": "stream",
     "text": [
      "0.8386996260905691\n",
      "0.0037493368452636237\n",
      "0.0 0.9074074074074074\n"
     ]
    }
   ],
   "source": [
    "print(np.median(cumulative))\n",
    "print(astroML.stats.sigmaG(cumulative))\n",
    "print(min(cumulative),max(cumulative))"
   ]
  },
  {
   "cell_type": "markdown",
   "id": "62673816-e0d1-40b3-bbb2-9df4ce869879",
   "metadata": {},
   "source": [
    "Computing same histogram without first non stationary steps"
   ]
  },
  {
   "cell_type": "code",
   "execution_count": 8,
   "id": "164fa82b-43e2-430c-9d30-aa880a25309a",
   "metadata": {},
   "outputs": [
    {
     "name": "stdout",
     "output_type": "stream",
     "text": [
      "0.8387765681700363\n",
      "0.0033665467354329617\n",
      "0.8286625655046708 0.850501002004008\n"
     ]
    },
    {
     "data": {
      "image/png": "[encoded data removed]",
      "text/plain": [
       "<Figure size 640x480 with 1 Axes>"
      ]
     },
     "metadata": {},
     "output_type": "display_data"
    }
   ],
   "source": [
    "burnin_index=1500\n",
    "running_burn = cumulative[burnin_index:]\n",
    "\n",
    "\n",
    "plt.hist(running_burn, bins=300, density=True, alpha=0.4);\n",
    "print(np.median(running_burn))\n",
    "print(astroML.stats.sigmaG(running_burn))\n",
    "print(min(running_burn),max(running_burn))"
   ]
  },
  {
   "cell_type": "markdown",
   "id": "6da29e0d-df77-4d43-a911-30b0804d73e1",
   "metadata": {},
   "source": [
    "### 2. Stock Market"
   ]
  },
  {
   "cell_type": "markdown",
   "id": "54158913-9554-4160-aac1-68b609a18d9b",
   "metadata": {},
   "source": [
    "Conditional probabilities for the stock market"
   ]
  },
  {
   "cell_type": "code",
   "execution_count": 9,
   "id": "850efc40-f1ef-4fec-a2ed-b4360ed22854",
   "metadata": {},
   "outputs": [],
   "source": [
    "pblbl = 0.9\n",
    "pblbr = 0.075\n",
    "pblsm = 0.025\n",
    "\n",
    "pbrbr = 0.8\n",
    "pbrbl = 0.15\n",
    "pbrsm = 0.05\n",
    "\n",
    "psmsm = 0.5\n",
    "psmbl = 0.25\n",
    "psmbr = 0.25"
   ]
  },
  {
   "cell_type": "markdown",
   "id": "471c154a-e6bd-4222-8df5-16cffe0aa2af",
   "metadata": {},
   "source": [
    "Markov Chain Implementation"
   ]
  },
  {
   "cell_type": "markdown",
   "id": "e5d18f0d-af8d-41c7-95ce-9465bbb62c1a",
   "metadata": {},
   "source": [
    "current = 0 #where 0 represent Bull Market, 1 represent Bear Market and 2 represent Stagnant Market\n",
    "trace = []\n",
    "trace.append(current)\n",
    "for _ in range(1000000):\n",
    "    previous = current\n",
    "    proposal = random.randint(0,2)\n",
    "    x = random.uniform(0,2)\n",
    "    if (previous == 0) and (proposal == 0):\n",
    "        if x < pblbl:\n",
    "            current = proposal\n",
    "    if (previous == 0) and (proposal == 1):\n",
    "        if x < pblbr:\n",
    "            current = proposal\n",
    "    if (previous == 0) and (proposal == 2):\n",
    "        if x < pblsm:\n",
    "            current = proposal\n",
    "    if (previous == 1) and (proposal == 0):\n",
    "        if x < pbrbl:\n",
    "            current = proposal\n",
    "    if (previous == 1) and (proposal == 1):\n",
    "        if x < pbrbr:\n",
    "            current = proposal\n",
    "    if (previous == 1) and (proposal == 2):\n",
    "        if x < pbrsm:\n",
    "            current = proposal\n",
    "    if (previous == 2) and (proposal == 0):\n",
    "        if x < psmbl:\n",
    "            current = proposal\n",
    "    if (previous == 2) and (proposal == 1):\n",
    "        if x < psmbr:\n",
    "            current = proposal\n",
    "    if (previous == 2) and (proposal == 2):\n",
    "        if x < psmsm:\n",
    "            current = proposal\n",
    "    trace.append(current)"
   ]
  },
  {
   "cell_type": "markdown",
   "id": "7d58bc7e-5905-4f35-af8f-7d241bbed66a",
   "metadata": {},
   "source": [
    "plotting the trace"
   ]
  },
  {
   "cell_type": "code",
   "execution_count": 11,
   "id": "1759a6ad-7063-43f5-8f18-7fce17f1d810",
   "metadata": {},
   "outputs": [
    {
     "data": {
      "image/png": "[encoded data removed]",
      "text/plain": [
       "<Figure size 640x480 with 1 Axes>"
      ]
     },
     "metadata": {},
     "output_type": "display_data"
    }
   ],
   "source": [
    "trace = np.array(trace)\n",
    "cumulative = np.cumsum(trace)/(np.arange(trace.shape[0])+1)\n",
    "plt.plot(cumulative)\n",
    "plt.xlabel('N days')\n",
    "plt.ylabel('Trace')\n",
    "plt.show()"
   ]
  },
  {
   "cell_type": "code",
   "execution_count": 12,
   "id": "9708f787-e462-46f7-a39c-270030c32156",
   "metadata": {},
   "outputs": [
    {
     "name": "stdout",
     "output_type": "stream",
     "text": [
      "0.43990369526815576\n",
      "0.0033357134795377465\n",
      "0.0 0.7575757575757576\n"
     ]
    }
   ],
   "source": [
    "print(np.median(cumulative))\n",
    "print(astroML.stats.sigmaG(cumulative))\n",
    "print(min(cumulative),max(cumulative))"
   ]
  },
  {
   "cell_type": "markdown",
   "id": "87b06071-9b02-4842-b88e-0d0fb783b424",
   "metadata": {},
   "source": [
    "Plotting histogram avoiding the first not stationary steps"
   ]
  },
  {
   "cell_type": "code",
   "execution_count": 13,
   "id": "f8b97ca4-aa9f-44ce-a020-df843db38f86",
   "metadata": {},
   "outputs": [
    {
     "name": "stdout",
     "output_type": "stream",
     "text": [
      "0.4397446177587485\n",
      "0.0031873327009666716\n",
      "0.4362177920570001 0.4439475990952763\n"
     ]
    },
    {
     "data": {
      "image/png": "[encoded data removed]",
      "text/plain": [
       "<Figure size 640x480 with 1 Axes>"
      ]
     },
     "metadata": {},
     "output_type": "display_data"
    }
   ],
   "source": [
    "burnin_index=100000\n",
    "running_burn = cumulative[burnin_index:]\n",
    "\n",
    "\n",
    "plt.hist(running_burn, bins=300, density=True, alpha=0.4);\n",
    "print(np.median(running_burn))\n",
    "print(astroML.stats.sigmaG(running_burn))\n",
    "print(min(running_burn),max(running_burn))"
   ]
  },
  {
   "cell_type": "markdown",
   "id": "884285aa-aeb7-4a70-956a-a9a8f04c1960",
   "metadata": {},
   "source": [
    "Computing bull market, bear market and stagnant market probabilities."
   ]
  },
  {
   "cell_type": "code",
   "execution_count": 18,
   "id": "0a9883e7-09be-4e43-9919-17c44dc3312e",
   "metadata": {},
   "outputs": [
    {
     "name": "stdout",
     "output_type": "stream",
     "text": [
      "0.6204463795536205 0.3157746842253158 0.06377893622106373\n"
     ]
    }
   ],
   "source": [
    "prob_bull = trace[trace == 0].shape[0]/len(trace)\n",
    "prob_bear = trace[trace == 1].shape[0]/len(trace)\n",
    "prob_stagnant = 1-prob_bull - prob_bear\n",
    "print(prob_bull, prob_bear, prob_stagnant)"
   ]
  }
 ],
 "metadata": {
  "kernelspec": {
   "display_name": "Python 3 (ipykernel)",
   "language": "python",
   "name": "python3"
  },
  "language_info": {
   "codemirror_mode": {
    "name": "ipython",
    "version": 3
   },
   "file_extension": ".py",
   "mimetype": "text/x-python",
   "name": "python",
   "nbconvert_exporter": "python",
   "pygments_lexer": "ipython3",
   "version": "3.11.6"
  }
 },
 "nbformat": 4,
 "nbformat_minor": 5
}
