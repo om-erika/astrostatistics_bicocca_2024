{
 "cells": [
  {
   "cell_type": "markdown",
   "id": "7aea21e4-4596-4d26-a26c-d1634e46ad87",
   "metadata": {},
   "source": [
    "## Time to get your hands dirty. Galaxies vs quasars with neural networks.\n",
    "\n",
    "Let's go back to our galaxy vs quasar data we've used in a previous exercise. \n",
    "\n",
    "1. Read in SDSS galaxy color data from `solutions/galaxyquasar.csv`. Create arrays for the $(u-g)$, $(g-r)$, $(r-i)$, and $(i-z)$ colors. Also create an array with the class labels where galaxy=$0$ and quasar=$1$. \n",
    "\n",
    "2. Now we're going to fit a neural network classifier. First, scale your data appropriately and do a 30% train/test split.\n",
    "\n",
    "3. Now train the classifier. Use one the package among those we've seen. These include Tensorflow via keras, pytorch, and the MPL classifier implemented in scikit-learn. This is an opportunity to pick the one you're most interested in learning. \n",
    "\n",
    "3. Start from a network architecture with a single hidden layer with 5 neurons, using the `adam` solver, the `relu` activation function, and a learninig rate of `0.001`. Plot the resulting ROC curve. \n",
    "\n",
    "4. Now let's optimize the hyperparameters of your network. Explore different hyperparameters and see what fits the data best.  Do your best now to optimize the network architecture. Be creative!\n",
    "\n",
    "5. Is your best result comparable with the simpler classifiers we've seen before? Do we need deep learning here? If yes, which features are captured best?\n",
    "\n",
    "\n",
    "A few tips:\n",
    "\n",
    "- In scikit-learn, remember that you can utilize all availables cores on your machine with `n_jobs=-1`. Print out the classification score for the training data, and the best parameters obtained by the cross validation.\n",
    "- If it takes too long, run the hyperparameter optimization on a subset of the training set. Then retrain the full network using the best hyperparameters only.\n",
    "- On cross validation, for scikit learn we've seen how to use `GridSearchCV` already. For Tensorflow, there's a really cool tool called [Tensorboard](https://www.tensorflow.org/tensorboard)"
   ]
  },
  {
   "cell_type": "code",
   "execution_count": 41,
   "id": "4b731bf8-b730-498f-8ff6-98b794889318",
   "metadata": {},
   "outputs": [],
   "source": [
    "import numpy as np\n",
    "from matplotlib import pyplot as plt\n",
    "import pandas as pd\n",
    "import seaborn as sns\n",
    "from sklearn.metrics import confusion_matrix\n",
    "from sklearn.preprocessing import LabelEncoder\n",
    "from sklearn.model_selection import train_test_split\n",
    "from sklearn.preprocessing import StandardScaler\n",
    "import tensorflow as tf\n",
    "from tensorflow import keras\n",
    "from sklearn.metrics import roc_curve\n",
    "from sklearn.metrics import RocCurveDisplay\n",
    "from tensorboard.plugins.hparams import api as hp"
   ]
  },
  {
   "cell_type": "markdown",
   "id": "fd79dd84-357a-4b07-bb9c-211cf63329b9",
   "metadata": {},
   "source": [
    "### Feature preparing and data preprocessing"
   ]
  },
  {
   "cell_type": "code",
   "execution_count": 42,
   "id": "5e3030be-cd90-4e69-abb2-55d417c3c152",
   "metadata": {},
   "outputs": [
    {
     "data": {
      "text/html": [
       "<div>\n",
       "<style scoped>\n",
       "    .dataframe tbody tr th:only-of-type {\n",
       "        vertical-align: middle;\n",
       "    }\n",
       "\n",
       "    .dataframe tbody tr th {\n",
       "        vertical-align: top;\n",
       "    }\n",
       "\n",
       "    .dataframe thead th {\n",
       "        text-align: right;\n",
       "    }\n",
       "</style>\n",
       "<table border=\"1\" class=\"dataframe\">\n",
       "  <thead>\n",
       "    <tr style=\"text-align: right;\">\n",
       "      <th></th>\n",
       "      <th>u</th>\n",
       "      <th>g</th>\n",
       "      <th>r</th>\n",
       "      <th>i</th>\n",
       "      <th>z</th>\n",
       "      <th>class</th>\n",
       "      <th>z1</th>\n",
       "      <th>zerr</th>\n",
       "    </tr>\n",
       "  </thead>\n",
       "  <tbody>\n",
       "    <tr>\n",
       "      <th>0</th>\n",
       "      <td>18.97213</td>\n",
       "      <td>18.53676</td>\n",
       "      <td>18.58280</td>\n",
       "      <td>18.34936</td>\n",
       "      <td>18.29215</td>\n",
       "      <td>QSO</td>\n",
       "      <td>0.522819</td>\n",
       "      <td>0.000155</td>\n",
       "    </tr>\n",
       "    <tr>\n",
       "      <th>1</th>\n",
       "      <td>19.24592</td>\n",
       "      <td>17.47646</td>\n",
       "      <td>16.47817</td>\n",
       "      <td>16.04472</td>\n",
       "      <td>15.68851</td>\n",
       "      <td>GALAXY</td>\n",
       "      <td>0.122846</td>\n",
       "      <td>0.000028</td>\n",
       "    </tr>\n",
       "    <tr>\n",
       "      <th>2</th>\n",
       "      <td>19.43536</td>\n",
       "      <td>17.70268</td>\n",
       "      <td>16.91565</td>\n",
       "      <td>16.58327</td>\n",
       "      <td>16.39128</td>\n",
       "      <td>GALAXY</td>\n",
       "      <td>0.000000</td>\n",
       "      <td>0.000000</td>\n",
       "    </tr>\n",
       "    <tr>\n",
       "      <th>3</th>\n",
       "      <td>19.31626</td>\n",
       "      <td>18.18312</td>\n",
       "      <td>17.39591</td>\n",
       "      <td>16.94549</td>\n",
       "      <td>16.65395</td>\n",
       "      <td>GALAXY</td>\n",
       "      <td>0.147435</td>\n",
       "      <td>0.000009</td>\n",
       "    </tr>\n",
       "    <tr>\n",
       "      <th>4</th>\n",
       "      <td>19.28828</td>\n",
       "      <td>19.11188</td>\n",
       "      <td>18.88937</td>\n",
       "      <td>18.80013</td>\n",
       "      <td>18.49183</td>\n",
       "      <td>QSO</td>\n",
       "      <td>2.011455</td>\n",
       "      <td>0.000631</td>\n",
       "    </tr>\n",
       "    <tr>\n",
       "      <th>...</th>\n",
       "      <td>...</td>\n",
       "      <td>...</td>\n",
       "      <td>...</td>\n",
       "      <td>...</td>\n",
       "      <td>...</td>\n",
       "      <td>...</td>\n",
       "      <td>...</td>\n",
       "      <td>...</td>\n",
       "    </tr>\n",
       "    <tr>\n",
       "      <th>49995</th>\n",
       "      <td>19.37295</td>\n",
       "      <td>18.12382</td>\n",
       "      <td>17.39886</td>\n",
       "      <td>16.98503</td>\n",
       "      <td>16.70585</td>\n",
       "      <td>GALAXY</td>\n",
       "      <td>0.113016</td>\n",
       "      <td>0.000011</td>\n",
       "    </tr>\n",
       "    <tr>\n",
       "      <th>49996</th>\n",
       "      <td>18.52021</td>\n",
       "      <td>16.88262</td>\n",
       "      <td>16.03280</td>\n",
       "      <td>15.56884</td>\n",
       "      <td>15.22454</td>\n",
       "      <td>GALAXY</td>\n",
       "      <td>0.085063</td>\n",
       "      <td>0.000014</td>\n",
       "    </tr>\n",
       "    <tr>\n",
       "      <th>49997</th>\n",
       "      <td>18.62718</td>\n",
       "      <td>17.30876</td>\n",
       "      <td>16.87371</td>\n",
       "      <td>16.62399</td>\n",
       "      <td>16.42296</td>\n",
       "      <td>GALAXY</td>\n",
       "      <td>0.054429</td>\n",
       "      <td>0.000008</td>\n",
       "    </tr>\n",
       "    <tr>\n",
       "      <th>49998</th>\n",
       "      <td>19.55140</td>\n",
       "      <td>18.27711</td>\n",
       "      <td>17.62101</td>\n",
       "      <td>17.21947</td>\n",
       "      <td>17.03347</td>\n",
       "      <td>GALAXY</td>\n",
       "      <td>0.112571</td>\n",
       "      <td>0.000009</td>\n",
       "    </tr>\n",
       "    <tr>\n",
       "      <th>49999</th>\n",
       "      <td>18.80772</td>\n",
       "      <td>17.75751</td>\n",
       "      <td>17.40500</td>\n",
       "      <td>17.21650</td>\n",
       "      <td>17.12295</td>\n",
       "      <td>GALAXY</td>\n",
       "      <td>0.043652</td>\n",
       "      <td>0.000007</td>\n",
       "    </tr>\n",
       "  </tbody>\n",
       "</table>\n",
       "<p>50000 rows × 8 columns</p>\n",
       "</div>"
      ],
      "text/plain": [
       "              u         g         r         i         z   class        z1  \\\n",
       "0      18.97213  18.53676  18.58280  18.34936  18.29215     QSO  0.522819   \n",
       "1      19.24592  17.47646  16.47817  16.04472  15.68851  GALAXY  0.122846   \n",
       "2      19.43536  17.70268  16.91565  16.58327  16.39128  GALAXY  0.000000   \n",
       "3      19.31626  18.18312  17.39591  16.94549  16.65395  GALAXY  0.147435   \n",
       "4      19.28828  19.11188  18.88937  18.80013  18.49183     QSO  2.011455   \n",
       "...         ...       ...       ...       ...       ...     ...       ...   \n",
       "49995  19.37295  18.12382  17.39886  16.98503  16.70585  GALAXY  0.113016   \n",
       "49996  18.52021  16.88262  16.03280  15.56884  15.22454  GALAXY  0.085063   \n",
       "49997  18.62718  17.30876  16.87371  16.62399  16.42296  GALAXY  0.054429   \n",
       "49998  19.55140  18.27711  17.62101  17.21947  17.03347  GALAXY  0.112571   \n",
       "49999  18.80772  17.75751  17.40500  17.21650  17.12295  GALAXY  0.043652   \n",
       "\n",
       "           zerr  \n",
       "0      0.000155  \n",
       "1      0.000028  \n",
       "2      0.000000  \n",
       "3      0.000009  \n",
       "4      0.000631  \n",
       "...         ...  \n",
       "49995  0.000011  \n",
       "49996  0.000014  \n",
       "49997  0.000008  \n",
       "49998  0.000009  \n",
       "49999  0.000007  \n",
       "\n",
       "[50000 rows x 8 columns]"
      ]
     },
     "execution_count": 42,
     "metadata": {},
     "output_type": "execute_result"
    }
   ],
   "source": [
    "df = pd.read_csv(\"../solutions/galaxyquasar.csv\")\n",
    "df"
   ]
  },
  {
   "cell_type": "markdown",
   "id": "96a81a84-d4e4-426b-a1e7-bc47f8582835",
   "metadata": {},
   "source": [
    "Check whether duplicates are present: since it returns a null vector, there are no duplicates."
   ]
  },
  {
   "cell_type": "code",
   "execution_count": 43,
   "id": "59447ef0-17dd-4ac9-8928-992b3f61e533",
   "metadata": {},
   "outputs": [
    {
     "data": {
      "text/html": [
       "<div>\n",
       "<style scoped>\n",
       "    .dataframe tbody tr th:only-of-type {\n",
       "        vertical-align: middle;\n",
       "    }\n",
       "\n",
       "    .dataframe tbody tr th {\n",
       "        vertical-align: top;\n",
       "    }\n",
       "\n",
       "    .dataframe thead th {\n",
       "        text-align: right;\n",
       "    }\n",
       "</style>\n",
       "<table border=\"1\" class=\"dataframe\">\n",
       "  <thead>\n",
       "    <tr style=\"text-align: right;\">\n",
       "      <th></th>\n",
       "      <th>u</th>\n",
       "      <th>g</th>\n",
       "      <th>r</th>\n",
       "      <th>i</th>\n",
       "      <th>z</th>\n",
       "      <th>class</th>\n",
       "      <th>z1</th>\n",
       "      <th>zerr</th>\n",
       "    </tr>\n",
       "  </thead>\n",
       "  <tbody>\n",
       "  </tbody>\n",
       "</table>\n",
       "</div>"
      ],
      "text/plain": [
       "Empty DataFrame\n",
       "Columns: [u, g, r, i, z, class, z1, zerr]\n",
       "Index: []"
      ]
     },
     "execution_count": 43,
     "metadata": {},
     "output_type": "execute_result"
    }
   ],
   "source": [
    "df[df.duplicated() == True]"
   ]
  },
  {
   "cell_type": "markdown",
   "id": "dc8d59af-4836-4fa7-8af0-deb8c7e470ce",
   "metadata": {},
   "source": [
    "Adding columns with colours, obtained from the difference of the magnitudes."
   ]
  },
  {
   "cell_type": "code",
   "execution_count": 44,
   "id": "e5a59648-fdf8-4c86-a76b-0f14cbfb9198",
   "metadata": {},
   "outputs": [],
   "source": [
    "df['u-g'] = df['u']- df['g'] \n",
    "df['g-r'] = df['g']- df['r'] \n",
    "df['r-i'] = df['r']- df['i']\n",
    "df['i-z'] = df['i']- df['z']"
   ]
  },
  {
   "cell_type": "markdown",
   "id": "50109e9b-60ee-4732-bf25-2958911617f0",
   "metadata": {},
   "source": [
    "Assigning unique integers instead of the strings \"QSO\"-\"Galaxy\" to help the model understand the labels."
   ]
  },
  {
   "cell_type": "code",
   "execution_count": 45,
   "id": "14b419fe-37e3-48fe-9982-308da4350596",
   "metadata": {},
   "outputs": [
    {
     "name": "stdout",
     "output_type": "stream",
     "text": [
      "Class names:  ['GALAXY' 'QSO']\n",
      "Labels:  ['QSO' 'GALAXY' 'GALAXY' ... 'GALAXY' 'GALAXY' 'GALAXY']\n"
     ]
    }
   ],
   "source": [
    "le = LabelEncoder()\n",
    "# Assign unique integers: 1 QSO, 0 galaxy\n",
    "df['class'] = le.fit_transform(df['class'] )\n",
    "labels_class = le.inverse_transform(df['class'] )\n",
    "class_names = le.classes_\n",
    "print('Class names: ', class_names)\n",
    "print('Labels: ', labels_class)"
   ]
  },
  {
   "cell_type": "markdown",
   "id": "5dc69341-4cda-48a9-8aee-dbe76155a67d",
   "metadata": {},
   "source": [
    "Checking if the classes are balanced: in this dataset, we have more galaxies than QSO, therefore there is an unbalance. This can be taken into consideration by inserting in the model a bias. In this case, I avoid adding the bias to then compare the results with a similar model but with the bias added."
   ]
  },
  {
   "cell_type": "code",
   "execution_count": 46,
   "id": "53bed897-3571-49bd-b8f7-64fa30e6a437",
   "metadata": {},
   "outputs": [
    {
     "name": "stdout",
     "output_type": "stream",
     "text": [
      "Examples:\n",
      "    Total: 50000\n",
      "    Positive: 7134 (14.27% of total)\n",
      "\n"
     ]
    }
   ],
   "source": [
    "neg, pos = np.bincount(df['class'])\n",
    "total = neg + pos\n",
    "print('Examples:\\n    Total: {}\\n    Positive: {} ({:.2f}% of total)\\n'.format(\n",
    "    total, pos, 100 * pos / total))"
   ]
  },
  {
   "cell_type": "code",
   "execution_count": 47,
   "id": "8bf76bd5-f223-4c62-978f-31f58a41cc0f",
   "metadata": {},
   "outputs": [
    {
     "data": {
      "text/plain": [
       "array([-1.79320688])"
      ]
     },
     "execution_count": 47,
     "metadata": {},
     "output_type": "execute_result"
    }
   ],
   "source": [
    "initial_bias = np.log([pos/neg])\n",
    "initial_bias"
   ]
  },
  {
   "cell_type": "markdown",
   "id": "5ae769e7-331d-4646-a358-8c0dbdcb860d",
   "metadata": {},
   "source": [
    "Dividing the dataset into training, validation and test set, then scaling the data in order to have mean 0 and variance 1."
   ]
  },
  {
   "cell_type": "code",
   "execution_count": 48,
   "id": "f6c2237c-e7be-4da8-b2e8-fdb4c6cb1987",
   "metadata": {},
   "outputs": [],
   "source": [
    "scaler = StandardScaler().set_output(transform=\"pandas\")\n",
    "X_train, X_val, y_train, y_val = train_test_split(df.loc[:, 'u-g':'i-z'], df['class'], test_size=0.3, random_state=42)\n",
    "X_train, X_test, y_train, y_test = train_test_split(X_train, y_train, test_size=0.2, random_state=9)\n",
    "X_train_scaled = scaler.fit_transform(X_train)\n",
    "X_val_scaled = scaler.transform(X_val)\n",
    "X_test_scaled = scaler.transform(X_test)"
   ]
  },
  {
   "cell_type": "markdown",
   "id": "cc7aee0b-63e9-484a-a74a-b3742e13bc77",
   "metadata": {},
   "source": [
    "### Hyperparameters optimization"
   ]
  },
  {
   "cell_type": "markdown",
   "id": "99ea26f0-632f-44ea-aeac-89877e0a0a3e",
   "metadata": {},
   "source": [
    "Here, I load Tensorboard in order to optimize the hyperparameters that will be used into the model. In particular, I checked different values for the number of neurons, the dropout term and the optimizer chosen for the model. To study which combination of hyperparameters give me the best result, I let the model training for 1 epoque and studied the \"binary-crossentropy\" metric. Finally, I chose the best model as the one who returned me the minimal value for the metric."
   ]
  },
  {
   "cell_type": "code",
   "execution_count": 16,
   "id": "5d1b74e0-f581-41a2-a88f-3f83bd49b235",
   "metadata": {},
   "outputs": [
    {
     "name": "stdout",
     "output_type": "stream",
     "text": [
      "The tensorboard extension is already loaded. To reload it, use:\n",
      "  %reload_ext tensorboard\n"
     ]
    }
   ],
   "source": [
    "%load_ext tensorboard"
   ]
  },
  {
   "cell_type": "code",
   "execution_count": 72,
   "id": "4fb71be3-5339-44df-825d-6b68a3c3970e",
   "metadata": {},
   "outputs": [],
   "source": [
    "HP_NUM_UNITS = hp.HParam('num_units', hp.Discrete([5,10,15,20]))\n",
    "HP_DROPOUT = hp.HParam('dropout', hp.Discrete([0.1, 0.2, 0.5]))\n",
    "HP_OPTIMIZER = hp.HParam('optimizer', hp.Discrete(['nadam', 'sgd']))\n",
    "METRIC_BINARY_CROSSENTROPY = 'binary_crossentropy'\n",
    "\n",
    "with tf.summary.create_file_writer('def_no_bias/hparam_tuning').as_default():\n",
    "  hp.hparams_config(\n",
    "    hparams=[HP_NUM_UNITS, HP_DROPOUT, HP_OPTIMIZER],\n",
    "    metrics=[hp.Metric(METRIC_BINARY_CROSSENTROPY, display_name='Binary Crossentropy')]\n",
    "  )"
   ]
  },
  {
   "cell_type": "code",
   "execution_count": 76,
   "id": "1d5d9720-c2fb-4a17-bfed-b91a41b2e4dc",
   "metadata": {},
   "outputs": [],
   "source": [
    "def validate_model(hparams):\n",
    "  model = keras.Sequential([\n",
    "      keras.layers.InputLayer(shape = (X_train.shape[-1],)),\n",
    "      keras.layers.Dense(\n",
    "          hparams[HP_NUM_UNITS], activation='relu',),\n",
    "      keras.layers.Dropout(hparams[HP_DROPOUT]),\n",
    "      keras.layers.Dense(1, activation='sigmoid'),\n",
    "  ])\n",
    "\n",
    "  model.compile(\n",
    "      optimizer=hparams[HP_OPTIMIZER],\n",
    "      loss=keras.losses.BinaryCrossentropy(),\n",
    "      metrics=[keras.metrics.BinaryCrossentropy(name='cross entropy')])\n",
    "  model.fit(X_train_scaled, y_train, epochs=1)\n",
    "  _, binary_crossentropy = model.evaluate(X_val_scaled, y_val)\n",
    "  return (binary_crossentropy)"
   ]
  },
  {
   "cell_type": "code",
   "execution_count": 77,
   "id": "eff35b77-8fc0-4889-8a6e-0bdc20e2b202",
   "metadata": {},
   "outputs": [],
   "source": [
    "def run(run_dir, hparams):\n",
    "  with tf.summary.create_file_writer(run_dir).as_default():\n",
    "    hp.hparams(hparams)  # record the values used in this trial\n",
    "    binary_crossentropy = validate_model(hparams)\n",
    "    tf.summary.scalar(METRIC_BINARY_CROSSENTROPY, binary_crossentropy, step=1)"
   ]
  },
  {
   "cell_type": "code",
   "execution_count": 78,
   "id": "bbf14627-fc06-492b-94a0-018b20ac4b3d",
   "metadata": {},
   "outputs": [
    {
     "name": "stdout",
     "output_type": "stream",
     "text": [
      "--- Starting trial: run-0\n",
      "{'num_units': 5, 'dropout': 0.1, 'optimizer': 'nadam'}\n",
      "\u001b[1m875/875\u001b[0m \u001b[32m━━━━━━━━━━━━━━━━━━━━\u001b[0m\u001b[37m\u001b[0m \u001b[1m5s\u001b[0m 3ms/step - cross entropy: 0.4367 - loss: 0.4367\n",
      "\u001b[1m469/469\u001b[0m \u001b[32m━━━━━━━━━━━━━━━━━━━━\u001b[0m\u001b[37m\u001b[0m \u001b[1m1s\u001b[0m 3ms/step - cross entropy: 0.1538 - loss: 0.1538\n",
      "--- Starting trial: run-1\n",
      "{'num_units': 5, 'dropout': 0.1, 'optimizer': 'sgd'}\n",
      "\u001b[1m875/875\u001b[0m \u001b[32m━━━━━━━━━━━━━━━━━━━━\u001b[0m\u001b[37m\u001b[0m \u001b[1m3s\u001b[0m 3ms/step - cross entropy: 0.3123 - loss: 0.3123\n",
      "\u001b[1m469/469\u001b[0m \u001b[32m━━━━━━━━━━━━━━━━━━━━\u001b[0m\u001b[37m\u001b[0m \u001b[1m1s\u001b[0m 2ms/step - cross entropy: 0.1554 - loss: 0.1554\n",
      "--- Starting trial: run-2\n",
      "{'num_units': 5, 'dropout': 0.2, 'optimizer': 'nadam'}\n",
      "\u001b[1m875/875\u001b[0m \u001b[32m━━━━━━━━━━━━━━━━━━━━\u001b[0m\u001b[37m\u001b[0m \u001b[1m5s\u001b[0m 3ms/step - cross entropy: 0.6330 - loss: 0.6330\n",
      "\u001b[1m469/469\u001b[0m \u001b[32m━━━━━━━━━━━━━━━━━━━━\u001b[0m\u001b[37m\u001b[0m \u001b[1m2s\u001b[0m 3ms/step - cross entropy: 0.2117 - loss: 0.2117\n",
      "--- Starting trial: run-3\n",
      "{'num_units': 5, 'dropout': 0.2, 'optimizer': 'sgd'}\n",
      "\u001b[1m875/875\u001b[0m \u001b[32m━━━━━━━━━━━━━━━━━━━━\u001b[0m\u001b[37m\u001b[0m \u001b[1m3s\u001b[0m 3ms/step - cross entropy: 0.4725 - loss: 0.4725\n",
      "\u001b[1m469/469\u001b[0m \u001b[32m━━━━━━━━━━━━━━━━━━━━\u001b[0m\u001b[37m\u001b[0m \u001b[1m2s\u001b[0m 2ms/step - cross entropy: 0.2087 - loss: 0.2087\n",
      "--- Starting trial: run-4\n",
      "{'num_units': 5, 'dropout': 0.5, 'optimizer': 'nadam'}\n",
      "\u001b[1m875/875\u001b[0m \u001b[32m━━━━━━━━━━━━━━━━━━━━\u001b[0m\u001b[37m\u001b[0m \u001b[1m6s\u001b[0m 3ms/step - cross entropy: 0.5462 - loss: 0.5462\n",
      "\u001b[1m469/469\u001b[0m \u001b[32m━━━━━━━━━━━━━━━━━━━━\u001b[0m\u001b[37m\u001b[0m \u001b[1m1s\u001b[0m 2ms/step - cross entropy: 0.2223 - loss: 0.2223\n",
      "--- Starting trial: run-5\n",
      "{'num_units': 5, 'dropout': 0.5, 'optimizer': 'sgd'}\n",
      "\u001b[1m875/875\u001b[0m \u001b[32m━━━━━━━━━━━━━━━━━━━━\u001b[0m\u001b[37m\u001b[0m \u001b[1m3s\u001b[0m 3ms/step - cross entropy: 0.4842 - loss: 0.4842\n",
      "\u001b[1m469/469\u001b[0m \u001b[32m━━━━━━━━━━━━━━━━━━━━\u001b[0m\u001b[37m\u001b[0m \u001b[1m1s\u001b[0m 2ms/step - cross entropy: 0.2195 - loss: 0.2195\n",
      "--- Starting trial: run-6\n",
      "{'num_units': 10, 'dropout': 0.1, 'optimizer': 'nadam'}\n",
      "\u001b[1m875/875\u001b[0m \u001b[32m━━━━━━━━━━━━━━━━━━━━\u001b[0m\u001b[37m\u001b[0m \u001b[1m5s\u001b[0m 3ms/step - cross entropy: 0.4109 - loss: 0.4109\n",
      "\u001b[1m469/469\u001b[0m \u001b[32m━━━━━━━━━━━━━━━━━━━━\u001b[0m\u001b[37m\u001b[0m \u001b[1m2s\u001b[0m 3ms/step - cross entropy: 0.1128 - loss: 0.1128\n",
      "--- Starting trial: run-7\n",
      "{'num_units': 10, 'dropout': 0.1, 'optimizer': 'sgd'}\n",
      "\u001b[1m875/875\u001b[0m \u001b[32m━━━━━━━━━━━━━━━━━━━━\u001b[0m\u001b[37m\u001b[0m \u001b[1m3s\u001b[0m 3ms/step - cross entropy: 0.5178 - loss: 0.5178\n",
      "\u001b[1m469/469\u001b[0m \u001b[32m━━━━━━━━━━━━━━━━━━━━\u001b[0m\u001b[37m\u001b[0m \u001b[1m2s\u001b[0m 3ms/step - cross entropy: 0.1852 - loss: 0.1852\n",
      "--- Starting trial: run-8\n",
      "{'num_units': 10, 'dropout': 0.2, 'optimizer': 'nadam'}\n",
      "\u001b[1m875/875\u001b[0m \u001b[32m━━━━━━━━━━━━━━━━━━━━\u001b[0m\u001b[37m\u001b[0m \u001b[1m5s\u001b[0m 3ms/step - cross entropy: 0.3849 - loss: 0.3849\n",
      "\u001b[1m469/469\u001b[0m \u001b[32m━━━━━━━━━━━━━━━━━━━━\u001b[0m\u001b[37m\u001b[0m \u001b[1m1s\u001b[0m 3ms/step - cross entropy: 0.1228 - loss: 0.1228\n",
      "--- Starting trial: run-9\n",
      "{'num_units': 10, 'dropout': 0.2, 'optimizer': 'sgd'}\n",
      "\u001b[1m875/875\u001b[0m \u001b[32m━━━━━━━━━━━━━━━━━━━━\u001b[0m\u001b[37m\u001b[0m \u001b[1m3s\u001b[0m 3ms/step - cross entropy: 0.4956 - loss: 0.4956\n",
      "\u001b[1m469/469\u001b[0m \u001b[32m━━━━━━━━━━━━━━━━━━━━\u001b[0m\u001b[37m\u001b[0m \u001b[1m2s\u001b[0m 3ms/step - cross entropy: 0.2643 - loss: 0.2643\n",
      "--- Starting trial: run-10\n",
      "{'num_units': 10, 'dropout': 0.5, 'optimizer': 'nadam'}\n",
      "\u001b[1m875/875\u001b[0m \u001b[32m━━━━━━━━━━━━━━━━━━━━\u001b[0m\u001b[37m\u001b[0m \u001b[1m5s\u001b[0m 3ms/step - cross entropy: 0.4682 - loss: 0.4682\n",
      "\u001b[1m469/469\u001b[0m \u001b[32m━━━━━━━━━━━━━━━━━━━━\u001b[0m\u001b[37m\u001b[0m \u001b[1m1s\u001b[0m 2ms/step - cross entropy: 0.1226 - loss: 0.1226\n",
      "--- Starting trial: run-11\n",
      "{'num_units': 10, 'dropout': 0.5, 'optimizer': 'sgd'}\n",
      "\u001b[1m875/875\u001b[0m \u001b[32m━━━━━━━━━━━━━━━━━━━━\u001b[0m\u001b[37m\u001b[0m \u001b[1m3s\u001b[0m 3ms/step - cross entropy: 0.4877 - loss: 0.4877\n",
      "\u001b[1m469/469\u001b[0m \u001b[32m━━━━━━━━━━━━━━━━━━━━\u001b[0m\u001b[37m\u001b[0m \u001b[1m2s\u001b[0m 3ms/step - cross entropy: 0.1949 - loss: 0.1949\n",
      "--- Starting trial: run-12\n",
      "{'num_units': 15, 'dropout': 0.1, 'optimizer': 'nadam'}\n",
      "\u001b[1m875/875\u001b[0m \u001b[32m━━━━━━━━━━━━━━━━━━━━\u001b[0m\u001b[37m\u001b[0m \u001b[1m5s\u001b[0m 3ms/step - cross entropy: 0.3999 - loss: 0.3999\n",
      "\u001b[1m469/469\u001b[0m \u001b[32m━━━━━━━━━━━━━━━━━━━━\u001b[0m\u001b[37m\u001b[0m \u001b[1m1s\u001b[0m 2ms/step - cross entropy: 0.0939 - loss: 0.0939\n",
      "--- Starting trial: run-13\n",
      "{'num_units': 15, 'dropout': 0.1, 'optimizer': 'sgd'}\n",
      "\u001b[1m875/875\u001b[0m \u001b[32m━━━━━━━━━━━━━━━━━━━━\u001b[0m\u001b[37m\u001b[0m \u001b[1m3s\u001b[0m 3ms/step - cross entropy: 0.5277 - loss: 0.5277\n",
      "\u001b[1m469/469\u001b[0m \u001b[32m━━━━━━━━━━━━━━━━━━━━\u001b[0m\u001b[37m\u001b[0m \u001b[1m2s\u001b[0m 3ms/step - cross entropy: 0.2141 - loss: 0.2141\n",
      "--- Starting trial: run-14\n",
      "{'num_units': 15, 'dropout': 0.2, 'optimizer': 'nadam'}\n",
      "\u001b[1m875/875\u001b[0m \u001b[32m━━━━━━━━━━━━━━━━━━━━\u001b[0m\u001b[37m\u001b[0m \u001b[1m6s\u001b[0m 3ms/step - cross entropy: 0.4477 - loss: 0.4477\n",
      "\u001b[1m469/469\u001b[0m \u001b[32m━━━━━━━━━━━━━━━━━━━━\u001b[0m\u001b[37m\u001b[0m \u001b[1m2s\u001b[0m 3ms/step - cross entropy: 0.1038 - loss: 0.1038\n",
      "--- Starting trial: run-15\n",
      "{'num_units': 15, 'dropout': 0.2, 'optimizer': 'sgd'}\n",
      "\u001b[1m875/875\u001b[0m \u001b[32m━━━━━━━━━━━━━━━━━━━━\u001b[0m\u001b[37m\u001b[0m \u001b[1m4s\u001b[0m 3ms/step - cross entropy: 0.4493 - loss: 0.4493\n",
      "\u001b[1m469/469\u001b[0m \u001b[32m━━━━━━━━━━━━━━━━━━━━\u001b[0m\u001b[37m\u001b[0m \u001b[1m2s\u001b[0m 3ms/step - cross entropy: 0.1585 - loss: 0.1585\n",
      "--- Starting trial: run-16\n",
      "{'num_units': 15, 'dropout': 0.5, 'optimizer': 'nadam'}\n",
      "\u001b[1m875/875\u001b[0m \u001b[32m━━━━━━━━━━━━━━━━━━━━\u001b[0m\u001b[37m\u001b[0m \u001b[1m5s\u001b[0m 3ms/step - cross entropy: 0.3896 - loss: 0.3896\n",
      "\u001b[1m469/469\u001b[0m \u001b[32m━━━━━━━━━━━━━━━━━━━━\u001b[0m\u001b[37m\u001b[0m \u001b[1m2s\u001b[0m 3ms/step - cross entropy: 0.1114 - loss: 0.1114\n",
      "--- Starting trial: run-17\n",
      "{'num_units': 15, 'dropout': 0.5, 'optimizer': 'sgd'}\n",
      "\u001b[1m875/875\u001b[0m \u001b[32m━━━━━━━━━━━━━━━━━━━━\u001b[0m\u001b[37m\u001b[0m \u001b[1m4s\u001b[0m 3ms/step - cross entropy: 0.4530 - loss: 0.4530\n",
      "\u001b[1m469/469\u001b[0m \u001b[32m━━━━━━━━━━━━━━━━━━━━\u001b[0m\u001b[37m\u001b[0m \u001b[1m2s\u001b[0m 3ms/step - cross entropy: 0.1975 - loss: 0.1975\n",
      "--- Starting trial: run-18\n",
      "{'num_units': 20, 'dropout': 0.1, 'optimizer': 'nadam'}\n",
      "\u001b[1m875/875\u001b[0m \u001b[32m━━━━━━━━━━━━━━━━━━━━\u001b[0m\u001b[37m\u001b[0m \u001b[1m6s\u001b[0m 3ms/step - cross entropy: 0.3908 - loss: 0.3908\n",
      "\u001b[1m469/469\u001b[0m \u001b[32m━━━━━━━━━━━━━━━━━━━━\u001b[0m\u001b[37m\u001b[0m \u001b[1m2s\u001b[0m 3ms/step - cross entropy: 0.0951 - loss: 0.0951\n",
      "--- Starting trial: run-19\n",
      "{'num_units': 20, 'dropout': 0.1, 'optimizer': 'sgd'}\n",
      "\u001b[1m875/875\u001b[0m \u001b[32m━━━━━━━━━━━━━━━━━━━━\u001b[0m\u001b[37m\u001b[0m \u001b[1m4s\u001b[0m 4ms/step - cross entropy: 0.5044 - loss: 0.5044\n",
      "\u001b[1m469/469\u001b[0m \u001b[32m━━━━━━━━━━━━━━━━━━━━\u001b[0m\u001b[37m\u001b[0m \u001b[1m2s\u001b[0m 3ms/step - cross entropy: 0.1532 - loss: 0.1532\n",
      "--- Starting trial: run-20\n",
      "{'num_units': 20, 'dropout': 0.2, 'optimizer': 'nadam'}\n",
      "\u001b[1m875/875\u001b[0m \u001b[32m━━━━━━━━━━━━━━━━━━━━\u001b[0m\u001b[37m\u001b[0m \u001b[1m7s\u001b[0m 4ms/step - cross entropy: 0.3398 - loss: 0.3398\n",
      "\u001b[1m469/469\u001b[0m \u001b[32m━━━━━━━━━━━━━━━━━━━━\u001b[0m\u001b[37m\u001b[0m \u001b[1m2s\u001b[0m 4ms/step - cross entropy: 0.0966 - loss: 0.0966\n",
      "--- Starting trial: run-21\n",
      "{'num_units': 20, 'dropout': 0.2, 'optimizer': 'sgd'}\n",
      "\u001b[1m875/875\u001b[0m \u001b[32m━━━━━━━━━━━━━━━━━━━━\u001b[0m\u001b[37m\u001b[0m \u001b[1m4s\u001b[0m 3ms/step - cross entropy: 0.4596 - loss: 0.4596\n",
      "\u001b[1m469/469\u001b[0m \u001b[32m━━━━━━━━━━━━━━━━━━━━\u001b[0m\u001b[37m\u001b[0m \u001b[1m2s\u001b[0m 3ms/step - cross entropy: 0.1531 - loss: 0.1531\n",
      "--- Starting trial: run-22\n",
      "{'num_units': 20, 'dropout': 0.5, 'optimizer': 'nadam'}\n",
      "\u001b[1m875/875\u001b[0m \u001b[32m━━━━━━━━━━━━━━━━━━━━\u001b[0m\u001b[37m\u001b[0m \u001b[1m6s\u001b[0m 3ms/step - cross entropy: 0.3381 - loss: 0.3381\n",
      "\u001b[1m469/469\u001b[0m \u001b[32m━━━━━━━━━━━━━━━━━━━━\u001b[0m\u001b[37m\u001b[0m \u001b[1m2s\u001b[0m 3ms/step - cross entropy: 0.1003 - loss: 0.1003\n",
      "--- Starting trial: run-23\n",
      "{'num_units': 20, 'dropout': 0.5, 'optimizer': 'sgd'}\n",
      "\u001b[1m875/875\u001b[0m \u001b[32m━━━━━━━━━━━━━━━━━━━━\u001b[0m\u001b[37m\u001b[0m \u001b[1m3s\u001b[0m 3ms/step - cross entropy: 0.4828 - loss: 0.4828\n",
      "\u001b[1m469/469\u001b[0m \u001b[32m━━━━━━━━━━━━━━━━━━━━\u001b[0m\u001b[37m\u001b[0m \u001b[1m2s\u001b[0m 3ms/step - cross entropy: 0.1715 - loss: 0.1715\n"
     ]
    }
   ],
   "source": [
    "session_num = 0\n",
    "\n",
    "for num_units in HP_NUM_UNITS.domain.values:\n",
    "  for dropout_rate in (HP_DROPOUT.domain.values):\n",
    "    for optimizer in HP_OPTIMIZER.domain.values:\n",
    "      hparams = {\n",
    "          HP_NUM_UNITS: num_units,\n",
    "          HP_DROPOUT: dropout_rate,\n",
    "          HP_OPTIMIZER: optimizer,\n",
    "      }\n",
    "      run_name = \"run-%d\" % session_num\n",
    "      print('--- Starting trial: %s' % run_name)\n",
    "      print({h.name: hparams[h] for h in hparams})\n",
    "      run('def_no_bias/hparam_tuning/' + run_name, hparams)\n",
    "      session_num += 1"
   ]
  },
  {
   "cell_type": "code",
   "execution_count": 80,
   "id": "48134778-b4bf-46d4-91d5-a45fab315f9c",
   "metadata": {},
   "outputs": [
    {
     "data": {
      "text/html": [
       "\n",
       "      <iframe id=\"tensorboard-frame-c1f8883085b73eda\" width=\"100%\" height=\"800\" frameborder=\"0\">\n",
       "      </iframe>\n",
       "      <script>\n",
       "        (function() {\n",
       "          const frame = document.getElementById(\"tensorboard-frame-c1f8883085b73eda\");\n",
       "          const url = new URL(\"/\", window.location);\n",
       "          const port = 8395;\n",
       "          if (port) {\n",
       "            url.port = port;\n",
       "          }\n",
       "          frame.src = url;\n",
       "        })();\n",
       "      </script>\n",
       "    "
      ],
      "text/plain": [
       "<IPython.core.display.HTML object>"
      ]
     },
     "metadata": {},
     "output_type": "display_data"
    }
   ],
   "source": [
    "%tensorboard --logdir def_no_bias/hparam_tuning --host localhost --port 8395"
   ]
  },
  {
   "cell_type": "markdown",
   "id": "9e13b881-9f6b-4f94-a040-ed289aa63c01",
   "metadata": {},
   "source": [
    "From tensorboard, I get as the best combination the following:"
   ]
  },
  {
   "cell_type": "code",
   "execution_count": 49,
   "id": "addf710f-5f2d-4c96-ac51-0b1a2ca8191b",
   "metadata": {},
   "outputs": [],
   "source": [
    "tuned_num_units = 15\n",
    "tuned_dropout = 0.1\n",
    "tuned_optimizer = tf.keras.optimizers.Adam(learning_rate=0.001)"
   ]
  },
  {
   "cell_type": "markdown",
   "id": "cd2130cd-386d-4f61-9e61-d83366e8f0ec",
   "metadata": {},
   "source": [
    "### Model training"
   ]
  },
  {
   "cell_type": "markdown",
   "id": "fa4d879c-373f-455d-a87e-86ffe7cbe7aa",
   "metadata": {},
   "source": [
    "Now, I create the multi layer perceptron that I will train to identify QSO. I use as metrics the binary crossentropy, the binary accuracy and the precision, and the binary crossentropy also as the loss function to minimize. I then recreate the model by selecting the tuned hyperparameters for each case."
   ]
  },
  {
   "cell_type": "code",
   "execution_count": 50,
   "id": "69ab06a6-aa7e-48ab-a32a-00667639c99d",
   "metadata": {},
   "outputs": [],
   "source": [
    "METRICS = [\n",
    "      keras.metrics.BinaryCrossentropy(name='cross entropy'),  # same as model's loss\n",
    "      keras.metrics.BinaryAccuracy(name='binary accuracy'),\n",
    "      keras.metrics.Precision(name='precision'),\n",
    "]\n",
    "\n",
    "def make_model(metrics=METRICS):\n",
    "  model = keras.Sequential([\n",
    "      keras.layers.InputLayer(shape = (X_train.shape[-1],)),\n",
    "      keras.layers.Dense(\n",
    "          tuned_num_units, activation='relu'),\n",
    "      keras.layers.Dropout(tuned_dropout),\n",
    "      keras.layers.Dense(1, activation='sigmoid'),\n",
    "  ])\n",
    "\n",
    "  model.compile(\n",
    "      optimizer=tuned_optimizer,\n",
    "      loss=keras.losses.BinaryCrossentropy(),\n",
    "      metrics=metrics)\n",
    "  print(metrics)\n",
    "  return model"
   ]
  },
  {
   "cell_type": "code",
   "execution_count": 51,
   "id": "8a81ffec-ac84-4d08-a51e-4153454bff60",
   "metadata": {},
   "outputs": [
    {
     "name": "stdout",
     "output_type": "stream",
     "text": [
      "[<BinaryCrossentropy name=cross entropy>, <BinaryAccuracy name=binary accuracy>, <Precision name=precision>]\n"
     ]
    },
    {
     "data": {
      "text/html": [
       "<pre style=\"white-space:pre;overflow-x:auto;line-height:normal;font-family:Menlo,'DejaVu Sans Mono',consolas,'Courier New',monospace\"><span style=\"font-weight: bold\">Model: \"sequential_2\"</span>\n",
       "</pre>\n"
      ],
      "text/plain": [
       "\u001b[1mModel: \"sequential_2\"\u001b[0m\n"
      ]
     },
     "metadata": {},
     "output_type": "display_data"
    },
    {
     "data": {
      "text/html": [
       "<pre style=\"white-space:pre;overflow-x:auto;line-height:normal;font-family:Menlo,'DejaVu Sans Mono',consolas,'Courier New',monospace\">┏━━━━━━━━━━━━━━━━━━━━━━━━━━━━━━━━━━━━━━┳━━━━━━━━━━━━━━━━━━━━━━━━━━━━━┳━━━━━━━━━━━━━━━━━┓\n",
       "┃<span style=\"font-weight: bold\"> Layer (type)                         </span>┃<span style=\"font-weight: bold\"> Output Shape                </span>┃<span style=\"font-weight: bold\">         Param # </span>┃\n",
       "┡━━━━━━━━━━━━━━━━━━━━━━━━━━━━━━━━━━━━━━╇━━━━━━━━━━━━━━━━━━━━━━━━━━━━━╇━━━━━━━━━━━━━━━━━┩\n",
       "│ dense_4 (<span style=\"color: #0087ff; text-decoration-color: #0087ff\">Dense</span>)                      │ (<span style=\"color: #00d7ff; text-decoration-color: #00d7ff\">None</span>, <span style=\"color: #00af00; text-decoration-color: #00af00\">15</span>)                  │              <span style=\"color: #00af00; text-decoration-color: #00af00\">75</span> │\n",
       "├──────────────────────────────────────┼─────────────────────────────┼─────────────────┤\n",
       "│ dropout_2 (<span style=\"color: #0087ff; text-decoration-color: #0087ff\">Dropout</span>)                  │ (<span style=\"color: #00d7ff; text-decoration-color: #00d7ff\">None</span>, <span style=\"color: #00af00; text-decoration-color: #00af00\">15</span>)                  │               <span style=\"color: #00af00; text-decoration-color: #00af00\">0</span> │\n",
       "├──────────────────────────────────────┼─────────────────────────────┼─────────────────┤\n",
       "│ dense_5 (<span style=\"color: #0087ff; text-decoration-color: #0087ff\">Dense</span>)                      │ (<span style=\"color: #00d7ff; text-decoration-color: #00d7ff\">None</span>, <span style=\"color: #00af00; text-decoration-color: #00af00\">1</span>)                   │              <span style=\"color: #00af00; text-decoration-color: #00af00\">16</span> │\n",
       "└──────────────────────────────────────┴─────────────────────────────┴─────────────────┘\n",
       "</pre>\n"
      ],
      "text/plain": [
       "┏━━━━━━━━━━━━━━━━━━━━━━━━━━━━━━━━━━━━━━┳━━━━━━━━━━━━━━━━━━━━━━━━━━━━━┳━━━━━━━━━━━━━━━━━┓\n",
       "┃\u001b[1m \u001b[0m\u001b[1mLayer (type)                        \u001b[0m\u001b[1m \u001b[0m┃\u001b[1m \u001b[0m\u001b[1mOutput Shape               \u001b[0m\u001b[1m \u001b[0m┃\u001b[1m \u001b[0m\u001b[1m        Param #\u001b[0m\u001b[1m \u001b[0m┃\n",
       "┡━━━━━━━━━━━━━━━━━━━━━━━━━━━━━━━━━━━━━━╇━━━━━━━━━━━━━━━━━━━━━━━━━━━━━╇━━━━━━━━━━━━━━━━━┩\n",
       "│ dense_4 (\u001b[38;5;33mDense\u001b[0m)                      │ (\u001b[38;5;45mNone\u001b[0m, \u001b[38;5;34m15\u001b[0m)                  │              \u001b[38;5;34m75\u001b[0m │\n",
       "├──────────────────────────────────────┼─────────────────────────────┼─────────────────┤\n",
       "│ dropout_2 (\u001b[38;5;33mDropout\u001b[0m)                  │ (\u001b[38;5;45mNone\u001b[0m, \u001b[38;5;34m15\u001b[0m)                  │               \u001b[38;5;34m0\u001b[0m │\n",
       "├──────────────────────────────────────┼─────────────────────────────┼─────────────────┤\n",
       "│ dense_5 (\u001b[38;5;33mDense\u001b[0m)                      │ (\u001b[38;5;45mNone\u001b[0m, \u001b[38;5;34m1\u001b[0m)                   │              \u001b[38;5;34m16\u001b[0m │\n",
       "└──────────────────────────────────────┴─────────────────────────────┴─────────────────┘\n"
      ]
     },
     "metadata": {},
     "output_type": "display_data"
    },
    {
     "data": {
      "text/html": [
       "<pre style=\"white-space:pre;overflow-x:auto;line-height:normal;font-family:Menlo,'DejaVu Sans Mono',consolas,'Courier New',monospace\"><span style=\"font-weight: bold\"> Total params: </span><span style=\"color: #00af00; text-decoration-color: #00af00\">91</span> (364.00 B)\n",
       "</pre>\n"
      ],
      "text/plain": [
       "\u001b[1m Total params: \u001b[0m\u001b[38;5;34m91\u001b[0m (364.00 B)\n"
      ]
     },
     "metadata": {},
     "output_type": "display_data"
    },
    {
     "data": {
      "text/html": [
       "<pre style=\"white-space:pre;overflow-x:auto;line-height:normal;font-family:Menlo,'DejaVu Sans Mono',consolas,'Courier New',monospace\"><span style=\"font-weight: bold\"> Trainable params: </span><span style=\"color: #00af00; text-decoration-color: #00af00\">91</span> (364.00 B)\n",
       "</pre>\n"
      ],
      "text/plain": [
       "\u001b[1m Trainable params: \u001b[0m\u001b[38;5;34m91\u001b[0m (364.00 B)\n"
      ]
     },
     "metadata": {},
     "output_type": "display_data"
    },
    {
     "data": {
      "text/html": [
       "<pre style=\"white-space:pre;overflow-x:auto;line-height:normal;font-family:Menlo,'DejaVu Sans Mono',consolas,'Courier New',monospace\"><span style=\"font-weight: bold\"> Non-trainable params: </span><span style=\"color: #00af00; text-decoration-color: #00af00\">0</span> (0.00 B)\n",
       "</pre>\n"
      ],
      "text/plain": [
       "\u001b[1m Non-trainable params: \u001b[0m\u001b[38;5;34m0\u001b[0m (0.00 B)\n"
      ]
     },
     "metadata": {},
     "output_type": "display_data"
    }
   ],
   "source": [
    "model = make_model()\n",
    "model.summary()"
   ]
  },
  {
   "cell_type": "markdown",
   "id": "c684c312-0c1f-4d3c-8d66-aa9e302a3643",
   "metadata": {},
   "source": [
    "Finally, I fit the model on my training data (scaled) and validate it with the validating data (scaled) for 20 epoques."
   ]
  },
  {
   "cell_type": "code",
   "execution_count": 52,
   "id": "e35ce7d7-86cd-445f-aa1a-960dac58e5ed",
   "metadata": {},
   "outputs": [
    {
     "name": "stdout",
     "output_type": "stream",
     "text": [
      "Epoch 1/20\n",
      "\u001b[1m875/875\u001b[0m \u001b[32m━━━━━━━━━━━━━━━━━━━━\u001b[0m\u001b[37m\u001b[0m \u001b[1m7s\u001b[0m 5ms/step - binary accuracy: 0.8776 - cross entropy: 0.3799 - loss: 0.3799 - precision: 0.5879 - val_binary accuracy: 0.9827 - val_cross entropy: 0.0992 - val_loss: 0.0992 - val_precision: 0.9599\n",
      "Epoch 2/20\n",
      "\u001b[1m875/875\u001b[0m \u001b[32m━━━━━━━━━━━━━━━━━━━━\u001b[0m\u001b[37m\u001b[0m \u001b[1m3s\u001b[0m 3ms/step - binary accuracy: 0.9798 - cross entropy: 0.0952 - loss: 0.0952 - precision: 0.9471 - val_binary accuracy: 0.9822 - val_cross entropy: 0.0794 - val_loss: 0.0794 - val_precision: 0.9563\n",
      "Epoch 3/20\n",
      "\u001b[1m875/875\u001b[0m \u001b[32m━━━━━━━━━━━━━━━━━━━━\u001b[0m\u001b[37m\u001b[0m \u001b[1m3s\u001b[0m 3ms/step - binary accuracy: 0.9806 - cross entropy: 0.0775 - loss: 0.0775 - precision: 0.9465 - val_binary accuracy: 0.9817 - val_cross entropy: 0.0783 - val_loss: 0.0783 - val_precision: 0.9570\n",
      "Epoch 4/20\n",
      "\u001b[1m875/875\u001b[0m \u001b[32m━━━━━━━━━━━━━━━━━━━━\u001b[0m\u001b[37m\u001b[0m \u001b[1m3s\u001b[0m 3ms/step - binary accuracy: 0.9807 - cross entropy: 0.0792 - loss: 0.0792 - precision: 0.9512 - val_binary accuracy: 0.9817 - val_cross entropy: 0.0773 - val_loss: 0.0773 - val_precision: 0.9540\n",
      "Epoch 5/20\n",
      "\u001b[1m875/875\u001b[0m \u001b[32m━━━━━━━━━━━━━━━━━━━━\u001b[0m\u001b[37m\u001b[0m \u001b[1m3s\u001b[0m 3ms/step - binary accuracy: 0.9819 - cross entropy: 0.0743 - loss: 0.0743 - precision: 0.9536 - val_binary accuracy: 0.9827 - val_cross entropy: 0.0749 - val_loss: 0.0749 - val_precision: 0.9565\n",
      "Epoch 6/20\n",
      "\u001b[1m875/875\u001b[0m \u001b[32m━━━━━━━━━━━━━━━━━━━━\u001b[0m\u001b[37m\u001b[0m \u001b[1m3s\u001b[0m 3ms/step - binary accuracy: 0.9821 - cross entropy: 0.0730 - loss: 0.0730 - precision: 0.9498 - val_binary accuracy: 0.9817 - val_cross entropy: 0.0756 - val_loss: 0.0756 - val_precision: 0.9566\n",
      "Epoch 7/20\n",
      "\u001b[1m875/875\u001b[0m \u001b[32m━━━━━━━━━━━━━━━━━━━━\u001b[0m\u001b[37m\u001b[0m \u001b[1m3s\u001b[0m 3ms/step - binary accuracy: 0.9802 - cross entropy: 0.0805 - loss: 0.0805 - precision: 0.9467 - val_binary accuracy: 0.9828 - val_cross entropy: 0.0744 - val_loss: 0.0744 - val_precision: 0.9560\n",
      "Epoch 8/20\n",
      "\u001b[1m875/875\u001b[0m \u001b[32m━━━━━━━━━━━━━━━━━━━━\u001b[0m\u001b[37m\u001b[0m \u001b[1m3s\u001b[0m 4ms/step - binary accuracy: 0.9815 - cross entropy: 0.0755 - loss: 0.0755 - precision: 0.9537 - val_binary accuracy: 0.9825 - val_cross entropy: 0.0737 - val_loss: 0.0737 - val_precision: 0.9564\n",
      "Epoch 9/20\n",
      "\u001b[1m875/875\u001b[0m \u001b[32m━━━━━━━━━━━━━━━━━━━━\u001b[0m\u001b[37m\u001b[0m \u001b[1m4s\u001b[0m 4ms/step - binary accuracy: 0.9829 - cross entropy: 0.0702 - loss: 0.0702 - precision: 0.9581 - val_binary accuracy: 0.9828 - val_cross entropy: 0.0737 - val_loss: 0.0737 - val_precision: 0.9548\n",
      "Epoch 10/20\n",
      "\u001b[1m875/875\u001b[0m \u001b[32m━━━━━━━━━━━━━━━━━━━━\u001b[0m\u001b[37m\u001b[0m \u001b[1m4s\u001b[0m 4ms/step - binary accuracy: 0.9823 - cross entropy: 0.0695 - loss: 0.0695 - precision: 0.9493 - val_binary accuracy: 0.9829 - val_cross entropy: 0.0738 - val_loss: 0.0738 - val_precision: 0.9522\n",
      "Epoch 11/20\n",
      "\u001b[1m875/875\u001b[0m \u001b[32m━━━━━━━━━━━━━━━━━━━━\u001b[0m\u001b[37m\u001b[0m \u001b[1m3s\u001b[0m 4ms/step - binary accuracy: 0.9823 - cross entropy: 0.0726 - loss: 0.0726 - precision: 0.9558 - val_binary accuracy: 0.9821 - val_cross entropy: 0.0738 - val_loss: 0.0738 - val_precision: 0.9593\n",
      "Epoch 12/20\n",
      "\u001b[1m875/875\u001b[0m \u001b[32m━━━━━━━━━━━━━━━━━━━━\u001b[0m\u001b[37m\u001b[0m \u001b[1m4s\u001b[0m 4ms/step - binary accuracy: 0.9836 - cross entropy: 0.0701 - loss: 0.0701 - precision: 0.9597 - val_binary accuracy: 0.9825 - val_cross entropy: 0.0726 - val_loss: 0.0726 - val_precision: 0.9564\n",
      "Epoch 13/20\n",
      "\u001b[1m875/875\u001b[0m \u001b[32m━━━━━━━━━━━━━━━━━━━━\u001b[0m\u001b[37m\u001b[0m \u001b[1m4s\u001b[0m 4ms/step - binary accuracy: 0.9833 - cross entropy: 0.0695 - loss: 0.0695 - precision: 0.9591 - val_binary accuracy: 0.9827 - val_cross entropy: 0.0731 - val_loss: 0.0731 - val_precision: 0.9551\n",
      "Epoch 14/20\n",
      "\u001b[1m875/875\u001b[0m \u001b[32m━━━━━━━━━━━━━━━━━━━━\u001b[0m\u001b[37m\u001b[0m \u001b[1m4s\u001b[0m 4ms/step - binary accuracy: 0.9831 - cross entropy: 0.0732 - loss: 0.0732 - precision: 0.9579 - val_binary accuracy: 0.9819 - val_cross entropy: 0.0728 - val_loss: 0.0728 - val_precision: 0.9562\n",
      "Epoch 15/20\n",
      "\u001b[1m875/875\u001b[0m \u001b[32m━━━━━━━━━━━━━━━━━━━━\u001b[0m\u001b[37m\u001b[0m \u001b[1m4s\u001b[0m 4ms/step - binary accuracy: 0.9828 - cross entropy: 0.0716 - loss: 0.0716 - precision: 0.9534 - val_binary accuracy: 0.9829 - val_cross entropy: 0.0718 - val_loss: 0.0718 - val_precision: 0.9548\n",
      "Epoch 16/20\n",
      "\u001b[1m875/875\u001b[0m \u001b[32m━━━━━━━━━━━━━━━━━━━━\u001b[0m\u001b[37m\u001b[0m \u001b[1m4s\u001b[0m 4ms/step - binary accuracy: 0.9837 - cross entropy: 0.0638 - loss: 0.0638 - precision: 0.9541 - val_binary accuracy: 0.9821 - val_cross entropy: 0.0724 - val_loss: 0.0724 - val_precision: 0.9563\n",
      "Epoch 17/20\n",
      "\u001b[1m875/875\u001b[0m \u001b[32m━━━━━━━━━━━━━━━━━━━━\u001b[0m\u001b[37m\u001b[0m \u001b[1m4s\u001b[0m 4ms/step - binary accuracy: 0.9833 - cross entropy: 0.0632 - loss: 0.0632 - precision: 0.9574 - val_binary accuracy: 0.9827 - val_cross entropy: 0.0716 - val_loss: 0.0716 - val_precision: 0.9582\n",
      "Epoch 18/20\n",
      "\u001b[1m875/875\u001b[0m \u001b[32m━━━━━━━━━━━━━━━━━━━━\u001b[0m\u001b[37m\u001b[0m \u001b[1m3s\u001b[0m 4ms/step - binary accuracy: 0.9830 - cross entropy: 0.0710 - loss: 0.0710 - precision: 0.9561 - val_binary accuracy: 0.9828 - val_cross entropy: 0.0712 - val_loss: 0.0712 - val_precision: 0.9543\n",
      "Epoch 19/20\n",
      "\u001b[1m875/875\u001b[0m \u001b[32m━━━━━━━━━━━━━━━━━━━━\u001b[0m\u001b[37m\u001b[0m \u001b[1m4s\u001b[0m 4ms/step - binary accuracy: 0.9827 - cross entropy: 0.0668 - loss: 0.0668 - precision: 0.9520 - val_binary accuracy: 0.9821 - val_cross entropy: 0.0730 - val_loss: 0.0730 - val_precision: 0.9545\n",
      "Epoch 20/20\n",
      "\u001b[1m875/875\u001b[0m \u001b[32m━━━━━━━━━━━━━━━━━━━━\u001b[0m\u001b[37m\u001b[0m \u001b[1m4s\u001b[0m 4ms/step - binary accuracy: 0.9835 - cross entropy: 0.0703 - loss: 0.0703 - precision: 0.9547 - val_binary accuracy: 0.9825 - val_cross entropy: 0.0715 - val_loss: 0.0715 - val_precision: 0.9594\n"
     ]
    }
   ],
   "source": [
    "history = model.fit(X_train_scaled, y_train, epochs=20, validation_data=(X_val_scaled, y_val))"
   ]
  },
  {
   "cell_type": "markdown",
   "id": "6473aa2a-112a-4b43-9139-ea06bb9d0154",
   "metadata": {},
   "source": [
    "### Model evaluating"
   ]
  },
  {
   "cell_type": "markdown",
   "id": "03c97278-c57c-4123-92df-158eec50d131",
   "metadata": {},
   "source": [
    "After I trained the model, I save the predictions on the various subsets to analyze the performance of my model."
   ]
  },
  {
   "cell_type": "code",
   "execution_count": 53,
   "id": "c83d1d43-6118-4644-aee7-88eef35a5982",
   "metadata": {},
   "outputs": [
    {
     "name": "stdout",
     "output_type": "stream",
     "text": [
      "\u001b[1m875/875\u001b[0m \u001b[32m━━━━━━━━━━━━━━━━━━━━\u001b[0m\u001b[37m\u001b[0m \u001b[1m2s\u001b[0m 3ms/step\n",
      "\u001b[1m469/469\u001b[0m \u001b[32m━━━━━━━━━━━━━━━━━━━━\u001b[0m\u001b[37m\u001b[0m \u001b[1m1s\u001b[0m 3ms/step\n",
      "\u001b[1m219/219\u001b[0m \u001b[32m━━━━━━━━━━━━━━━━━━━━\u001b[0m\u001b[37m\u001b[0m \u001b[1m1s\u001b[0m 3ms/step\n"
     ]
    }
   ],
   "source": [
    "train_predictions = model.predict(X_train_scaled)\n",
    "val_predictions = model.predict(X_val_scaled)\n",
    "test_predictions = model.predict(X_test_scaled)"
   ]
  },
  {
   "cell_type": "markdown",
   "id": "0da2bd65-19ef-4827-b765-e6a4221822ed",
   "metadata": {},
   "source": [
    "I create a function to print a 2D confusion matrix as a figure"
   ]
  },
  {
   "cell_type": "code",
   "execution_count": 54,
   "id": "4c0e2f79-2e6a-47cc-8a2b-086fe95d0bb4",
   "metadata": {},
   "outputs": [],
   "source": [
    "def plot_cm(labels, predictions, threshold=0.5):\n",
    "  cm = confusion_matrix(labels, predictions > threshold)\n",
    "  plt.figure(figsize=(5,5))\n",
    "  sns.heatmap(cm, annot=True, fmt=\"d\")\n",
    "  plt.title('Confusion matrix with threshold = {:.2f}'.format(threshold))\n",
    "  plt.ylabel('Actual label')\n",
    "  plt.xlabel('Predicted label')\n",
    "\n",
    "  print('Galaxies correctly detected as galaxies (True Positives): ', cm[0][0])\n",
    "  print('Galaxies mistakely detected as QSO (False Positives): ', cm[0][1])\n",
    "  print('QSO mistakely detected as galaxies (False Negatives): ', cm[1][0])\n",
    "  print('QSO  correctly detected as QSO (True Negatives): ', cm[1][1])\n",
    "  print('Total galaxies: ', np.sum(cm[0]))\n",
    "  print('Total QSO: ', np.sum(cm[1]))"
   ]
  },
  {
   "cell_type": "markdown",
   "id": "a39fe479-1a05-4d0d-985a-5ca738a10554",
   "metadata": {},
   "source": [
    "First, I evaluate the loss of my model on the validation data. Then, I test the model to compute the confusion matrix associated with the validation data."
   ]
  },
  {
   "cell_type": "code",
   "execution_count": 55,
   "id": "f5bf1640-5f07-4b46-afcd-7b272b3d1b87",
   "metadata": {},
   "outputs": [
    {
     "name": "stdout",
     "output_type": "stream",
     "text": [
      "loss :  0.07152167707681656\n",
      "compile_metrics :  0.07152167707681656\n",
      "\n",
      "Galaxies correctly detected as galaxies (True Positives):  12727\n",
      "Galaxies mistakely detected as QSO (False Positives):  85\n",
      "QSO mistakely detected as galaxies (False Negatives):  178\n",
      "QSO  correctly detected as QSO (True Negatives):  2010\n",
      "Total galaxies:  12812\n",
      "Total QSO:  2188\n"
     ]
    },
    {
     "data": {
      "image/png": "[encoded data removed]",
      "text/plain": [
       "<Figure size 500x500 with 2 Axes>"
      ]
     },
     "metadata": {},
     "output_type": "display_data"
    }
   ],
   "source": [
    "val_results = model.evaluate(X_val_scaled, y_val, verbose=0)\n",
    "for name, value in zip(model.metrics_names, val_results):\n",
    "  print(name, ': ', value)\n",
    "print()\n",
    "\n",
    "plot_cm(y_val, val_predictions, threshold = 0.5)"
   ]
  },
  {
   "cell_type": "markdown",
   "id": "b36e08a8-4c6c-4aad-90c8-d9e798f71bed",
   "metadata": {},
   "source": [
    "Subsequently, I did the same for my test subset."
   ]
  },
  {
   "cell_type": "code",
   "execution_count": 56,
   "id": "2f4b6358-8639-499f-a786-fb19c6587ac2",
   "metadata": {},
   "outputs": [
    {
     "name": "stdout",
     "output_type": "stream",
     "text": [
      "loss :  0.07560866326093674\n",
      "compile_metrics :  0.07560866326093674\n",
      "\n",
      "Galaxies correctly detected as galaxies (True Positives):  5971\n",
      "Galaxies mistakely detected as QSO (False Positives):  37\n",
      "QSO mistakely detected as galaxies (False Negatives):  86\n",
      "QSO  correctly detected as QSO (True Negatives):  906\n",
      "Total galaxies:  6008\n",
      "Total QSO:  992\n"
     ]
    },
    {
     "data": {
      "image/png": "[encoded data removed]",
      "text/plain": [
       "<Figure size 500x500 with 2 Axes>"
      ]
     },
     "metadata": {},
     "output_type": "display_data"
    }
   ],
   "source": [
    "test_results = model.evaluate(X_test_scaled, y_test, verbose=0)\n",
    "for name, value in zip(model.metrics_names, test_results):\n",
    "  print(name, ': ', value)\n",
    "print()\n",
    "\n",
    "plot_cm(y_test, test_predictions, threshold = 0.5)"
   ]
  },
  {
   "cell_type": "markdown",
   "id": "7f149870-5552-4a29-9e14-69858247829b",
   "metadata": {},
   "source": [
    "Finally, I used the history of my model to compute the metric performances and the loss of my model at each epoque."
   ]
  },
  {
   "cell_type": "code",
   "execution_count": 57,
   "id": "ab8ba93f-c2c6-4d00-8c84-7fe9478b504b",
   "metadata": {},
   "outputs": [
    {
     "data": {
      "image/png": "[encoded data removed]",
      "text/plain": [
       "<Figure size 1000x600 with 2 Axes>"
      ]
     },
     "metadata": {},
     "output_type": "display_data"
    }
   ],
   "source": [
    "fig = plt.figure(figsize = (10,6))\n",
    "ax = fig.add_subplot(121)\n",
    "ax.plot(history.history['binary accuracy'])\n",
    "ax.plot(history.history['val_binary accuracy'])\n",
    "ax.set_title('model binary accuracy')\n",
    "ax.set_ylabel('binary accuracy')\n",
    "ax.set_xlabel('epoch')\n",
    "ax.legend(['train', 'val'], loc='upper left')\n",
    "\n",
    "ax1 = fig.add_subplot(122)\n",
    "ax1.plot(history.history['precision'])\n",
    "ax1.plot(history.history['val_precision'])\n",
    "ax1.set_title('model precision')\n",
    "ax1.set_ylabel('precision')\n",
    "ax1.set_xlabel('epoch')\n",
    "ax1.legend(['train', 'val'], loc='upper left')\n",
    "\n",
    "plt.show()"
   ]
  },
  {
   "cell_type": "code",
   "execution_count": 58,
   "id": "550ff990-33ee-409a-ae97-9d8526e131bc",
   "metadata": {},
   "outputs": [
    {
     "data": {
      "image/png": "[encoded data removed]",
      "text/plain": [
       "<Figure size 640x480 with 1 Axes>"
      ]
     },
     "metadata": {},
     "output_type": "display_data"
    }
   ],
   "source": [
    "plt.plot(history.history['loss'])\n",
    "plt.plot(history.history['val_loss'])\n",
    "plt.title('model loss')\n",
    "plt.ylabel('loss')\n",
    "plt.xlabel('epoch')\n",
    "plt.legend(['train', 'val'], loc='upper left')\n",
    "plt.show()"
   ]
  },
  {
   "cell_type": "markdown",
   "id": "e887ccc0-2164-4764-8a89-789182340028",
   "metadata": {},
   "source": [
    "Here, I print the report of the performance of my model on the test subset."
   ]
  },
  {
   "cell_type": "code",
   "execution_count": 59,
   "id": "113440ea-beee-44e4-858b-bfec7609137e",
   "metadata": {},
   "outputs": [
    {
     "name": "stdout",
     "output_type": "stream",
     "text": [
      "\u001b[1m219/219\u001b[0m \u001b[32m━━━━━━━━━━━━━━━━━━━━\u001b[0m\u001b[37m\u001b[0m \u001b[1m1s\u001b[0m 3ms/step\n",
      "              precision    recall  f1-score   support\n",
      "\n",
      "           0       0.99      0.99      0.99      6008\n",
      "           1       0.96      0.91      0.94       992\n",
      "\n",
      "    accuracy                           0.98      7000\n",
      "   macro avg       0.97      0.95      0.96      7000\n",
      "weighted avg       0.98      0.98      0.98      7000\n",
      "\n"
     ]
    }
   ],
   "source": [
    "from sklearn.metrics import classification_report\n",
    "\n",
    "report = classification_report(y_test, model.predict(X_test_scaled) > 0.5)\n",
    "print(report)   "
   ]
  },
  {
   "cell_type": "markdown",
   "id": "e9d06a4e-0762-40a0-be99-d44cdfca2c65",
   "metadata": {},
   "source": [
    "Plot curve associated with the model."
   ]
  },
  {
   "cell_type": "code",
   "execution_count": 60,
   "id": "23887a65-38f3-4f2f-b822-2079d9bab276",
   "metadata": {},
   "outputs": [
    {
     "name": "stdout",
     "output_type": "stream",
     "text": [
      "\u001b[1m219/219\u001b[0m \u001b[32m━━━━━━━━━━━━━━━━━━━━\u001b[0m\u001b[37m\u001b[0m \u001b[1m1s\u001b[0m 2ms/step\n"
     ]
    },
    {
     "name": "stderr",
     "output_type": "stream",
     "text": [
      "No artists with labels found to put in legend.  Note that artists whose label start with an underscore are ignored when legend() is called with no argument.\n"
     ]
    },
    {
     "data": {
      "text/plain": [
       "(0.92, 1.0)"
      ]
     },
     "execution_count": 60,
     "metadata": {},
     "output_type": "execute_result"
    },
    {
     "data": {
      "image/png": "[encoded data removed]",
      "text/plain": [
       "<Figure size 640x480 with 1 Axes>"
      ]
     },
     "metadata": {},
     "output_type": "display_data"
    }
   ],
   "source": [
    "fpr, tpr, threshold = roc_curve(y_test, model.predict(X_test_scaled))\n",
    "roc_display = RocCurveDisplay(fpr=fpr, tpr=tpr).plot()\n",
    "plt.ylim(0.92, 1.0)"
   ]
  }
 ],
 "metadata": {
  "kernelspec": {
   "display_name": "Python 3 (ipykernel)",
   "language": "python",
   "name": "python3"
  },
  "language_info": {
   "codemirror_mode": {
    "name": "ipython",
    "version": 3
   },
   "file_extension": ".py",
   "mimetype": "text/x-python",
   "name": "python",
   "nbconvert_exporter": "python",
   "pygments_lexer": "ipython3",
   "version": "3.11.6"
  }
 },
 "nbformat": 4,
 "nbformat_minor": 5
}
