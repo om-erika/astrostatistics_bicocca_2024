{
 "cells": [
  {
   "cell_type": "markdown",
   "id": "8b6c2288-9891-4b13-a2bf-a2e4cc8cc269",
   "metadata": {},
   "source": [
    "## Time to get your hands dirty. Galaxies vs quasars with neural networks.\n",
    "\n",
    "Let's go back to our galaxy vs quasar data we've used in a previous exercise. \n",
    "\n",
    "1. Read in SDSS galaxy color data from `solutions/galaxyquasar.csv`. Create arrays for the $(u-g)$, $(g-r)$, $(r-i)$, and $(i-z)$ colors. Also create an array with the class labels where galaxy=$0$ and quasar=$1$. \n",
    "\n",
    "2. Now we're going to fit a neural network classifier. First, scale your data appropriately and do a 30% train/test split.\n",
    "\n",
    "3. Now train the classifier. Use one the package among those we've seen. These include Tensorflow via keras, pytorch, and the MPL classifier implemented in scikit-learn. This is an opportunity to pick the one you're most interested in learning. \n",
    "\n",
    "3. Start from a network architecture with a single hidden layer with 5 neurons, using the `adam` solver, the `relu` activation function, and a learninig rate of `0.001`. Plot the resulting ROC curve. \n",
    "\n",
    "4. Now let's optimize the hyperparameters of your network. Explore different hyperparameters and see what fits the data best.  Do your best now to optimize the network architecture. Be creative!\n",
    "\n",
    "5. Is your best result comparable with the simpler classifiers we've seen before? Do we need deep learning here? If yes, which features are captured best?\n",
    "\n",
    "\n",
    "A few tips:\n",
    "\n",
    "- In scikit-learn, remember that you can utilize all availables cores on your machine with `n_jobs=-1`. Print out the classification score for the training data, and the best parameters obtained by the cross validation.\n",
    "- If it takes too long, run the hyperparameter optimization on a subset of the training set. Then retrain the full network using the best hyperparameters only.\n",
    "- On cross validation, for scikit learn we've seen how to use `GridSearchCV` already. For Tensorflow, there's a really cool tool called [Tensorboard](https://www.tensorflow.org/tensorboard)"
   ]
  },
  {
   "cell_type": "code",
   "execution_count": 1,
   "id": "4b731bf8-b730-498f-8ff6-98b794889318",
   "metadata": {},
   "outputs": [],
   "source": [
    "import numpy as np\n",
    "from matplotlib import pyplot as plt\n",
    "import pandas as pd\n",
    "import seaborn as sns\n",
    "from sklearn.metrics import confusion_matrix\n",
    "from sklearn.preprocessing import LabelEncoder\n",
    "from sklearn.model_selection import train_test_split\n",
    "from sklearn.preprocessing import StandardScaler\n",
    "import tensorflow as tf\n",
    "from tensorflow import keras\n",
    "from sklearn.metrics import roc_curve\n",
    "from sklearn.metrics import RocCurveDisplay\n",
    "from tensorboard.plugins.hparams import api as hp"
   ]
  },
  {
   "cell_type": "markdown",
   "id": "0cd7c975-6c03-4716-bd13-ffd074937e89",
   "metadata": {},
   "source": [
    "### Feature preparing and data preprocessing"
   ]
  },
  {
   "cell_type": "code",
   "execution_count": 2,
   "id": "5e3030be-cd90-4e69-abb2-55d417c3c152",
   "metadata": {},
   "outputs": [
    {
     "data": {
      "text/html": [
       "<div>\n",
       "<style scoped>\n",
       "    .dataframe tbody tr th:only-of-type {\n",
       "        vertical-align: middle;\n",
       "    }\n",
       "\n",
       "    .dataframe tbody tr th {\n",
       "        vertical-align: top;\n",
       "    }\n",
       "\n",
       "    .dataframe thead th {\n",
       "        text-align: right;\n",
       "    }\n",
       "</style>\n",
       "<table border=\"1\" class=\"dataframe\">\n",
       "  <thead>\n",
       "    <tr style=\"text-align: right;\">\n",
       "      <th></th>\n",
       "      <th>u</th>\n",
       "      <th>g</th>\n",
       "      <th>r</th>\n",
       "      <th>i</th>\n",
       "      <th>z</th>\n",
       "      <th>class</th>\n",
       "      <th>z1</th>\n",
       "      <th>zerr</th>\n",
       "    </tr>\n",
       "  </thead>\n",
       "  <tbody>\n",
       "    <tr>\n",
       "      <th>0</th>\n",
       "      <td>18.97213</td>\n",
       "      <td>18.53676</td>\n",
       "      <td>18.58280</td>\n",
       "      <td>18.34936</td>\n",
       "      <td>18.29215</td>\n",
       "      <td>QSO</td>\n",
       "      <td>0.522819</td>\n",
       "      <td>0.000155</td>\n",
       "    </tr>\n",
       "    <tr>\n",
       "      <th>1</th>\n",
       "      <td>19.24592</td>\n",
       "      <td>17.47646</td>\n",
       "      <td>16.47817</td>\n",
       "      <td>16.04472</td>\n",
       "      <td>15.68851</td>\n",
       "      <td>GALAXY</td>\n",
       "      <td>0.122846</td>\n",
       "      <td>0.000028</td>\n",
       "    </tr>\n",
       "    <tr>\n",
       "      <th>2</th>\n",
       "      <td>19.43536</td>\n",
       "      <td>17.70268</td>\n",
       "      <td>16.91565</td>\n",
       "      <td>16.58327</td>\n",
       "      <td>16.39128</td>\n",
       "      <td>GALAXY</td>\n",
       "      <td>0.000000</td>\n",
       "      <td>0.000000</td>\n",
       "    </tr>\n",
       "    <tr>\n",
       "      <th>3</th>\n",
       "      <td>19.31626</td>\n",
       "      <td>18.18312</td>\n",
       "      <td>17.39591</td>\n",
       "      <td>16.94549</td>\n",
       "      <td>16.65395</td>\n",
       "      <td>GALAXY</td>\n",
       "      <td>0.147435</td>\n",
       "      <td>0.000009</td>\n",
       "    </tr>\n",
       "    <tr>\n",
       "      <th>4</th>\n",
       "      <td>19.28828</td>\n",
       "      <td>19.11188</td>\n",
       "      <td>18.88937</td>\n",
       "      <td>18.80013</td>\n",
       "      <td>18.49183</td>\n",
       "      <td>QSO</td>\n",
       "      <td>2.011455</td>\n",
       "      <td>0.000631</td>\n",
       "    </tr>\n",
       "    <tr>\n",
       "      <th>...</th>\n",
       "      <td>...</td>\n",
       "      <td>...</td>\n",
       "      <td>...</td>\n",
       "      <td>...</td>\n",
       "      <td>...</td>\n",
       "      <td>...</td>\n",
       "      <td>...</td>\n",
       "      <td>...</td>\n",
       "    </tr>\n",
       "    <tr>\n",
       "      <th>49995</th>\n",
       "      <td>19.37295</td>\n",
       "      <td>18.12382</td>\n",
       "      <td>17.39886</td>\n",
       "      <td>16.98503</td>\n",
       "      <td>16.70585</td>\n",
       "      <td>GALAXY</td>\n",
       "      <td>0.113016</td>\n",
       "      <td>0.000011</td>\n",
       "    </tr>\n",
       "    <tr>\n",
       "      <th>49996</th>\n",
       "      <td>18.52021</td>\n",
       "      <td>16.88262</td>\n",
       "      <td>16.03280</td>\n",
       "      <td>15.56884</td>\n",
       "      <td>15.22454</td>\n",
       "      <td>GALAXY</td>\n",
       "      <td>0.085063</td>\n",
       "      <td>0.000014</td>\n",
       "    </tr>\n",
       "    <tr>\n",
       "      <th>49997</th>\n",
       "      <td>18.62718</td>\n",
       "      <td>17.30876</td>\n",
       "      <td>16.87371</td>\n",
       "      <td>16.62399</td>\n",
       "      <td>16.42296</td>\n",
       "      <td>GALAXY</td>\n",
       "      <td>0.054429</td>\n",
       "      <td>0.000008</td>\n",
       "    </tr>\n",
       "    <tr>\n",
       "      <th>49998</th>\n",
       "      <td>19.55140</td>\n",
       "      <td>18.27711</td>\n",
       "      <td>17.62101</td>\n",
       "      <td>17.21947</td>\n",
       "      <td>17.03347</td>\n",
       "      <td>GALAXY</td>\n",
       "      <td>0.112571</td>\n",
       "      <td>0.000009</td>\n",
       "    </tr>\n",
       "    <tr>\n",
       "      <th>49999</th>\n",
       "      <td>18.80772</td>\n",
       "      <td>17.75751</td>\n",
       "      <td>17.40500</td>\n",
       "      <td>17.21650</td>\n",
       "      <td>17.12295</td>\n",
       "      <td>GALAXY</td>\n",
       "      <td>0.043652</td>\n",
       "      <td>0.000007</td>\n",
       "    </tr>\n",
       "  </tbody>\n",
       "</table>\n",
       "<p>50000 rows × 8 columns</p>\n",
       "</div>"
      ],
      "text/plain": [
       "              u         g         r         i         z   class        z1  \\\n",
       "0      18.97213  18.53676  18.58280  18.34936  18.29215     QSO  0.522819   \n",
       "1      19.24592  17.47646  16.47817  16.04472  15.68851  GALAXY  0.122846   \n",
       "2      19.43536  17.70268  16.91565  16.58327  16.39128  GALAXY  0.000000   \n",
       "3      19.31626  18.18312  17.39591  16.94549  16.65395  GALAXY  0.147435   \n",
       "4      19.28828  19.11188  18.88937  18.80013  18.49183     QSO  2.011455   \n",
       "...         ...       ...       ...       ...       ...     ...       ...   \n",
       "49995  19.37295  18.12382  17.39886  16.98503  16.70585  GALAXY  0.113016   \n",
       "49996  18.52021  16.88262  16.03280  15.56884  15.22454  GALAXY  0.085063   \n",
       "49997  18.62718  17.30876  16.87371  16.62399  16.42296  GALAXY  0.054429   \n",
       "49998  19.55140  18.27711  17.62101  17.21947  17.03347  GALAXY  0.112571   \n",
       "49999  18.80772  17.75751  17.40500  17.21650  17.12295  GALAXY  0.043652   \n",
       "\n",
       "           zerr  \n",
       "0      0.000155  \n",
       "1      0.000028  \n",
       "2      0.000000  \n",
       "3      0.000009  \n",
       "4      0.000631  \n",
       "...         ...  \n",
       "49995  0.000011  \n",
       "49996  0.000014  \n",
       "49997  0.000008  \n",
       "49998  0.000009  \n",
       "49999  0.000007  \n",
       "\n",
       "[50000 rows x 8 columns]"
      ]
     },
     "execution_count": 2,
     "metadata": {},
     "output_type": "execute_result"
    }
   ],
   "source": [
    "df = pd.read_csv(\"../solutions/galaxyquasar.csv\")\n",
    "df"
   ]
  },
  {
   "cell_type": "markdown",
   "id": "02956e90-8928-4f6e-b135-9a003b12974b",
   "metadata": {},
   "source": [
    "Check whether duplicates are present: since it returns a null vector, there are no duplicates."
   ]
  },
  {
   "cell_type": "code",
   "execution_count": 3,
   "id": "ebced205-1ab7-4a6e-a145-8ba0ca32b9d5",
   "metadata": {},
   "outputs": [
    {
     "data": {
      "text/html": [
       "<div>\n",
       "<style scoped>\n",
       "    .dataframe tbody tr th:only-of-type {\n",
       "        vertical-align: middle;\n",
       "    }\n",
       "\n",
       "    .dataframe tbody tr th {\n",
       "        vertical-align: top;\n",
       "    }\n",
       "\n",
       "    .dataframe thead th {\n",
       "        text-align: right;\n",
       "    }\n",
       "</style>\n",
       "<table border=\"1\" class=\"dataframe\">\n",
       "  <thead>\n",
       "    <tr style=\"text-align: right;\">\n",
       "      <th></th>\n",
       "      <th>u</th>\n",
       "      <th>g</th>\n",
       "      <th>r</th>\n",
       "      <th>i</th>\n",
       "      <th>z</th>\n",
       "      <th>class</th>\n",
       "      <th>z1</th>\n",
       "      <th>zerr</th>\n",
       "    </tr>\n",
       "  </thead>\n",
       "  <tbody>\n",
       "  </tbody>\n",
       "</table>\n",
       "</div>"
      ],
      "text/plain": [
       "Empty DataFrame\n",
       "Columns: [u, g, r, i, z, class, z1, zerr]\n",
       "Index: []"
      ]
     },
     "execution_count": 3,
     "metadata": {},
     "output_type": "execute_result"
    }
   ],
   "source": [
    "df[df.duplicated() == True]"
   ]
  },
  {
   "cell_type": "markdown",
   "id": "50ece768-72e1-439d-9e57-366f3452b511",
   "metadata": {},
   "source": [
    "Adding columns with colours, obtained from the difference of the magnitudes."
   ]
  },
  {
   "cell_type": "code",
   "execution_count": 4,
   "id": "e5a59648-fdf8-4c86-a76b-0f14cbfb9198",
   "metadata": {},
   "outputs": [],
   "source": [
    "df['u-g'] = df['u']- df['g'] \n",
    "df['g-r'] = df['g']- df['r'] \n",
    "df['r-i'] = df['r']- df['i']\n",
    "df['i-z'] = df['i']- df['z']"
   ]
  },
  {
   "cell_type": "markdown",
   "id": "f295f9d8-42aa-455a-8db7-059a139359a4",
   "metadata": {},
   "source": [
    "Assigning unique integers instead of the strings \"QSO\"-\"Galaxy\" to help the model understand the labels."
   ]
  },
  {
   "cell_type": "code",
   "execution_count": 5,
   "id": "14b419fe-37e3-48fe-9982-308da4350596",
   "metadata": {},
   "outputs": [
    {
     "name": "stdout",
     "output_type": "stream",
     "text": [
      "Class names:  ['GALAXY' 'QSO']\n",
      "Labels:  ['QSO' 'GALAXY' 'GALAXY' ... 'GALAXY' 'GALAXY' 'GALAXY']\n"
     ]
    }
   ],
   "source": [
    "le = LabelEncoder()\n",
    "# Assign unique integers: 1 QSO, 0 galaxy\n",
    "df['class'] = le.fit_transform(df['class'] )\n",
    "labels_class = le.inverse_transform(df['class'] )\n",
    "class_names = le.classes_\n",
    "print('Class names: ', class_names)\n",
    "print('Labels: ', labels_class)"
   ]
  },
  {
   "cell_type": "markdown",
   "id": "b85c2c36-6cc8-4329-a529-c81c3bedaf7b",
   "metadata": {},
   "source": [
    "Checking if the classes are balanced: in this dataset, we have more galaxies than QSO, therefore there is an unbalance. This can be taken into consideration by inserting in the model a bias. In this case, I add the bias to then compare the results with a similar model without the bias added."
   ]
  },
  {
   "cell_type": "code",
   "execution_count": 6,
   "id": "53bed897-3571-49bd-b8f7-64fa30e6a437",
   "metadata": {},
   "outputs": [
    {
     "name": "stdout",
     "output_type": "stream",
     "text": [
      "Examples:\n",
      "    Total: 50000\n",
      "    Positive: 7134 (14.27% of total)\n",
      "\n"
     ]
    }
   ],
   "source": [
    "neg, pos = np.bincount(df['class'])\n",
    "total = neg + pos\n",
    "print('Examples:\\n    Total: {}\\n    Positive: {} ({:.2f}% of total)\\n'.format(\n",
    "    total, pos, 100 * pos / total))"
   ]
  },
  {
   "cell_type": "code",
   "execution_count": 7,
   "id": "8bf76bd5-f223-4c62-978f-31f58a41cc0f",
   "metadata": {},
   "outputs": [
    {
     "data": {
      "text/plain": [
       "array([-1.79320688])"
      ]
     },
     "execution_count": 7,
     "metadata": {},
     "output_type": "execute_result"
    }
   ],
   "source": [
    "initial_bias = np.log([pos/neg])\n",
    "initial_bias"
   ]
  },
  {
   "cell_type": "markdown",
   "id": "400d87c4-c027-4235-8856-1e9cc45f5572",
   "metadata": {},
   "source": [
    "Dividing the dataset into training, validation and test set, then scaling the data in order to have mean 0 and variance 1."
   ]
  },
  {
   "cell_type": "code",
   "execution_count": 8,
   "id": "f6c2237c-e7be-4da8-b2e8-fdb4c6cb1987",
   "metadata": {},
   "outputs": [],
   "source": [
    "scaler = StandardScaler().set_output(transform=\"pandas\")\n",
    "X_train, X_val, y_train, y_val = train_test_split(df.loc[:, 'u-g':'i-z'], df['class'], test_size=0.3, random_state=42)\n",
    "X_train, X_test, y_train, y_test = train_test_split(X_train, y_train, test_size=0.2, random_state=9)\n",
    "X_train_scaled = scaler.fit_transform(X_train)\n",
    "X_val_scaled = scaler.transform(X_val)\n",
    "X_test_scaled = scaler.transform(X_test)"
   ]
  },
  {
   "cell_type": "markdown",
   "id": "2dd21757-d436-4fe2-9573-678e4df1ac6c",
   "metadata": {},
   "source": [
    "### Hyperparameters optimization"
   ]
  },
  {
   "cell_type": "markdown",
   "id": "958a8429-6946-437f-b270-2bdcf8bc9565",
   "metadata": {},
   "source": [
    "Here, I load Tensorboard in order to optimize the hyperparameters that will be used into the model. In particular, I checked different values for the number of neurons, the dropout term and the optimizer chosen for the model. To study which combination of hyperparameters give me the best result, I let the model training for 1 epoque and studied the \"binary-crossentropy\" metric. Finally, I chose the best model as the one who returned me the minimal value for the metric."
   ]
  },
  {
   "cell_type": "code",
   "execution_count": 8,
   "id": "5d1b74e0-f581-41a2-a88f-3f83bd49b235",
   "metadata": {},
   "outputs": [],
   "source": [
    "%load_ext tensorboard"
   ]
  },
  {
   "cell_type": "code",
   "execution_count": 9,
   "id": "4fb71be3-5339-44df-825d-6b68a3c3970e",
   "metadata": {},
   "outputs": [],
   "source": [
    "HP_NUM_UNITS = hp.HParam('num_units', hp.Discrete([5,10,15,20]))\n",
    "HP_DROPOUT = hp.HParam('dropout', hp.Discrete([0.1, 0.2, 0.5]))\n",
    "HP_OPTIMIZER = hp.HParam('optimizer', hp.Discrete(['nadam', 'sgd']))\n",
    "METRIC_BINARY_CROSSENTROPY = 'binary_crossentropy'\n",
    "\n",
    "with tf.summary.create_file_writer('def_bias/hparam_tuning').as_default():\n",
    "  hp.hparams_config(\n",
    "    hparams=[HP_NUM_UNITS, HP_DROPOUT, HP_OPTIMIZER],\n",
    "    metrics=[hp.Metric(METRIC_BINARY_CROSSENTROPY, display_name='Binary Crossentropy')]\n",
    "  )"
   ]
  },
  {
   "cell_type": "code",
   "execution_count": 10,
   "id": "1d5d9720-c2fb-4a17-bfed-b91a41b2e4dc",
   "metadata": {},
   "outputs": [],
   "source": [
    "def validate_model(hparams):\n",
    "  output_bias = tf.keras.initializers.Constant(initial_bias)\n",
    "  model = keras.Sequential([\n",
    "      tf.keras.layers.InputLayer(shape=(X_train.shape[-1],)),\n",
    "      keras.layers.Dense(\n",
    "          hparams[HP_NUM_UNITS], activation='relu'),\n",
    "      keras.layers.Dropout(hparams[HP_DROPOUT]),\n",
    "      keras.layers.Dense(1, activation='sigmoid',\n",
    "                         bias_initializer=output_bias),\n",
    "  ])\n",
    "\n",
    "  model.compile(\n",
    "      optimizer=hparams[HP_OPTIMIZER],\n",
    "      loss=keras.losses.BinaryCrossentropy(),\n",
    "      metrics=[keras.metrics.BinaryCrossentropy(name='binary crossentropy')])\n",
    "  model.fit(X_train_scaled, y_train, epochs=1)\n",
    "  _, binary_crossentropy = model.evaluate(X_val_scaled, y_val)\n",
    "  return (binary_crossentropy)"
   ]
  },
  {
   "cell_type": "code",
   "execution_count": 11,
   "id": "eff35b77-8fc0-4889-8a6e-0bdc20e2b202",
   "metadata": {},
   "outputs": [],
   "source": [
    "def run(run_dir, hparams):\n",
    "  with tf.summary.create_file_writer(run_dir).as_default():\n",
    "    hp.hparams(hparams)  # record the values used in this trial\n",
    "    binary_crossentropy = validate_model(hparams)\n",
    "    tf.summary.scalar(METRIC_BINARY_CROSSENTROPY, binary_crossentropy, step=1)"
   ]
  },
  {
   "cell_type": "code",
   "execution_count": 12,
   "id": "bbf14627-fc06-492b-94a0-018b20ac4b3d",
   "metadata": {},
   "outputs": [
    {
     "name": "stdout",
     "output_type": "stream",
     "text": [
      "--- Starting trial: run-0\n",
      "{'num_units': 5, 'dropout': 0.1, 'optimizer': 'nadam'}\n",
      "\u001b[1m875/875\u001b[0m \u001b[32m━━━━━━━━━━━━━━━━━━━━\u001b[0m\u001b[37m\u001b[0m \u001b[1m6s\u001b[0m 3ms/step - binary crossentropy: 0.2618 - loss: 0.2618\n",
      "\u001b[1m469/469\u001b[0m \u001b[32m━━━━━━━━━━━━━━━━━━━━\u001b[0m\u001b[37m\u001b[0m \u001b[1m2s\u001b[0m 3ms/step - binary crossentropy: 0.1137 - loss: 0.1137\n",
      "--- Starting trial: run-1\n",
      "{'num_units': 5, 'dropout': 0.1, 'optimizer': 'sgd'}\n",
      "\u001b[1m875/875\u001b[0m \u001b[32m━━━━━━━━━━━━━━━━━━━━\u001b[0m\u001b[37m\u001b[0m \u001b[1m3s\u001b[0m 3ms/step - binary crossentropy: 0.2844 - loss: 0.2844\n",
      "\u001b[1m469/469\u001b[0m \u001b[32m━━━━━━━━━━━━━━━━━━━━\u001b[0m\u001b[37m\u001b[0m \u001b[1m2s\u001b[0m 3ms/step - binary crossentropy: 0.1625 - loss: 0.1625\n",
      "--- Starting trial: run-2\n",
      "{'num_units': 5, 'dropout': 0.2, 'optimizer': 'nadam'}\n",
      "\u001b[1m875/875\u001b[0m \u001b[32m━━━━━━━━━━━━━━━━━━━━\u001b[0m\u001b[37m\u001b[0m \u001b[1m7s\u001b[0m 3ms/step - binary crossentropy: 0.4076 - loss: 0.4076\n",
      "\u001b[1m469/469\u001b[0m \u001b[32m━━━━━━━━━━━━━━━━━━━━\u001b[0m\u001b[37m\u001b[0m \u001b[1m2s\u001b[0m 3ms/step - binary crossentropy: 0.1674 - loss: 0.1674\n",
      "--- Starting trial: run-3\n",
      "{'num_units': 5, 'dropout': 0.2, 'optimizer': 'sgd'}\n",
      "\u001b[1m875/875\u001b[0m \u001b[32m━━━━━━━━━━━━━━━━━━━━\u001b[0m\u001b[37m\u001b[0m \u001b[1m3s\u001b[0m 3ms/step - binary crossentropy: 0.3051 - loss: 0.3051\n",
      "\u001b[1m469/469\u001b[0m \u001b[32m━━━━━━━━━━━━━━━━━━━━\u001b[0m\u001b[37m\u001b[0m \u001b[1m2s\u001b[0m 3ms/step - binary crossentropy: 0.1612 - loss: 0.1612\n",
      "--- Starting trial: run-4\n",
      "{'num_units': 5, 'dropout': 0.5, 'optimizer': 'nadam'}\n",
      "\u001b[1m875/875\u001b[0m \u001b[32m━━━━━━━━━━━━━━━━━━━━\u001b[0m\u001b[37m\u001b[0m \u001b[1m5s\u001b[0m 3ms/step - binary crossentropy: 0.3174 - loss: 0.3174\n",
      "\u001b[1m469/469\u001b[0m \u001b[32m━━━━━━━━━━━━━━━━━━━━\u001b[0m\u001b[37m\u001b[0m \u001b[1m2s\u001b[0m 3ms/step - binary crossentropy: 0.1820 - loss: 0.1820\n",
      "--- Starting trial: run-5\n",
      "{'num_units': 5, 'dropout': 0.5, 'optimizer': 'sgd'}\n",
      "\u001b[1m875/875\u001b[0m \u001b[32m━━━━━━━━━━━━━━━━━━━━\u001b[0m\u001b[37m\u001b[0m \u001b[1m3s\u001b[0m 3ms/step - binary crossentropy: 0.2892 - loss: 0.2892\n",
      "\u001b[1m469/469\u001b[0m \u001b[32m━━━━━━━━━━━━━━━━━━━━\u001b[0m\u001b[37m\u001b[0m \u001b[1m1s\u001b[0m 2ms/step - binary crossentropy: 0.1752 - loss: 0.1752\n",
      "--- Starting trial: run-6\n",
      "{'num_units': 10, 'dropout': 0.1, 'optimizer': 'nadam'}\n",
      "\u001b[1m875/875\u001b[0m \u001b[32m━━━━━━━━━━━━━━━━━━━━\u001b[0m\u001b[37m\u001b[0m \u001b[1m5s\u001b[0m 3ms/step - binary crossentropy: 0.2175 - loss: 0.2175\n",
      "\u001b[1m469/469\u001b[0m \u001b[32m━━━━━━━━━━━━━━━━━━━━\u001b[0m\u001b[37m\u001b[0m \u001b[1m2s\u001b[0m 3ms/step - binary crossentropy: 0.1055 - loss: 0.1055\n",
      "--- Starting trial: run-7\n",
      "{'num_units': 10, 'dropout': 0.1, 'optimizer': 'sgd'}\n",
      "\u001b[1m875/875\u001b[0m \u001b[32m━━━━━━━━━━━━━━━━━━━━\u001b[0m\u001b[37m\u001b[0m \u001b[1m3s\u001b[0m 3ms/step - binary crossentropy: 0.2927 - loss: 0.2927\n",
      "\u001b[1m469/469\u001b[0m \u001b[32m━━━━━━━━━━━━━━━━━━━━\u001b[0m\u001b[37m\u001b[0m \u001b[1m2s\u001b[0m 3ms/step - binary crossentropy: 0.1513 - loss: 0.1513\n",
      "--- Starting trial: run-8\n",
      "{'num_units': 10, 'dropout': 0.2, 'optimizer': 'nadam'}\n",
      "\u001b[1m875/875\u001b[0m \u001b[32m━━━━━━━━━━━━━━━━━━━━\u001b[0m\u001b[37m\u001b[0m \u001b[1m5s\u001b[0m 3ms/step - binary crossentropy: 0.3454 - loss: 0.3454\n",
      "\u001b[1m469/469\u001b[0m \u001b[32m━━━━━━━━━━━━━━━━━━━━\u001b[0m\u001b[37m\u001b[0m \u001b[1m1s\u001b[0m 2ms/step - binary crossentropy: 0.1218 - loss: 0.1218\n",
      "--- Starting trial: run-9\n",
      "{'num_units': 10, 'dropout': 0.2, 'optimizer': 'sgd'}\n",
      "\u001b[1m875/875\u001b[0m \u001b[32m━━━━━━━━━━━━━━━━━━━━\u001b[0m\u001b[37m\u001b[0m \u001b[1m3s\u001b[0m 3ms/step - binary crossentropy: 0.2820 - loss: 0.2820\n",
      "\u001b[1m469/469\u001b[0m \u001b[32m━━━━━━━━━━━━━━━━━━━━\u001b[0m\u001b[37m\u001b[0m \u001b[1m2s\u001b[0m 2ms/step - binary crossentropy: 0.1486 - loss: 0.1486\n",
      "--- Starting trial: run-10\n",
      "{'num_units': 10, 'dropout': 0.5, 'optimizer': 'nadam'}\n",
      "\u001b[1m875/875\u001b[0m \u001b[32m━━━━━━━━━━━━━━━━━━━━\u001b[0m\u001b[37m\u001b[0m \u001b[1m5s\u001b[0m 3ms/step - binary crossentropy: 0.3479 - loss: 0.3479\n",
      "\u001b[1m469/469\u001b[0m \u001b[32m━━━━━━━━━━━━━━━━━━━━\u001b[0m\u001b[37m\u001b[0m \u001b[1m2s\u001b[0m 3ms/step - binary crossentropy: 0.1458 - loss: 0.1458\n",
      "--- Starting trial: run-11\n",
      "{'num_units': 10, 'dropout': 0.5, 'optimizer': 'sgd'}\n",
      "\u001b[1m875/875\u001b[0m \u001b[32m━━━━━━━━━━━━━━━━━━━━\u001b[0m\u001b[37m\u001b[0m \u001b[1m3s\u001b[0m 3ms/step - binary crossentropy: 0.3176 - loss: 0.3176\n",
      "\u001b[1m469/469\u001b[0m \u001b[32m━━━━━━━━━━━━━━━━━━━━\u001b[0m\u001b[37m\u001b[0m \u001b[1m2s\u001b[0m 3ms/step - binary crossentropy: 0.1621 - loss: 0.1621\n",
      "--- Starting trial: run-12\n",
      "{'num_units': 15, 'dropout': 0.1, 'optimizer': 'nadam'}\n",
      "\u001b[1m875/875\u001b[0m \u001b[32m━━━━━━━━━━━━━━━━━━━━\u001b[0m\u001b[37m\u001b[0m \u001b[1m5s\u001b[0m 3ms/step - binary crossentropy: 0.3655 - loss: 0.3655\n",
      "\u001b[1m469/469\u001b[0m \u001b[32m━━━━━━━━━━━━━━━━━━━━\u001b[0m\u001b[37m\u001b[0m \u001b[1m2s\u001b[0m 3ms/step - binary crossentropy: 0.1225 - loss: 0.1225\n",
      "--- Starting trial: run-13\n",
      "{'num_units': 15, 'dropout': 0.1, 'optimizer': 'sgd'}\n",
      "\u001b[1m875/875\u001b[0m \u001b[32m━━━━━━━━━━━━━━━━━━━━\u001b[0m\u001b[37m\u001b[0m \u001b[1m4s\u001b[0m 3ms/step - binary crossentropy: 0.3047 - loss: 0.3047\n",
      "\u001b[1m469/469\u001b[0m \u001b[32m━━━━━━━━━━━━━━━━━━━━\u001b[0m\u001b[37m\u001b[0m \u001b[1m2s\u001b[0m 3ms/step - binary crossentropy: 0.1569 - loss: 0.1569\n",
      "--- Starting trial: run-14\n",
      "{'num_units': 15, 'dropout': 0.2, 'optimizer': 'nadam'}\n",
      "\u001b[1m875/875\u001b[0m \u001b[32m━━━━━━━━━━━━━━━━━━━━\u001b[0m\u001b[37m\u001b[0m \u001b[1m6s\u001b[0m 3ms/step - binary crossentropy: 0.2532 - loss: 0.2532\n",
      "\u001b[1m469/469\u001b[0m \u001b[32m━━━━━━━━━━━━━━━━━━━━\u001b[0m\u001b[37m\u001b[0m \u001b[1m2s\u001b[0m 3ms/step - binary crossentropy: 0.1009 - loss: 0.1009\n",
      "--- Starting trial: run-15\n",
      "{'num_units': 15, 'dropout': 0.2, 'optimizer': 'sgd'}\n",
      "\u001b[1m875/875\u001b[0m \u001b[32m━━━━━━━━━━━━━━━━━━━━\u001b[0m\u001b[37m\u001b[0m \u001b[1m3s\u001b[0m 3ms/step - binary crossentropy: 0.2867 - loss: 0.2867\n",
      "\u001b[1m469/469\u001b[0m \u001b[32m━━━━━━━━━━━━━━━━━━━━\u001b[0m\u001b[37m\u001b[0m \u001b[1m1s\u001b[0m 2ms/step - binary crossentropy: 0.1514 - loss: 0.1514\n",
      "--- Starting trial: run-16\n",
      "{'num_units': 15, 'dropout': 0.5, 'optimizer': 'nadam'}\n",
      "\u001b[1m875/875\u001b[0m \u001b[32m━━━━━━━━━━━━━━━━━━━━\u001b[0m\u001b[37m\u001b[0m \u001b[1m5s\u001b[0m 3ms/step - binary crossentropy: 0.3464 - loss: 0.3464\n",
      "\u001b[1m469/469\u001b[0m \u001b[32m━━━━━━━━━━━━━━━━━━━━\u001b[0m\u001b[37m\u001b[0m \u001b[1m2s\u001b[0m 3ms/step - binary crossentropy: 0.1098 - loss: 0.1098\n",
      "--- Starting trial: run-17\n",
      "{'num_units': 15, 'dropout': 0.5, 'optimizer': 'sgd'}\n",
      "\u001b[1m875/875\u001b[0m \u001b[32m━━━━━━━━━━━━━━━━━━━━\u001b[0m\u001b[37m\u001b[0m \u001b[1m3s\u001b[0m 3ms/step - binary crossentropy: 0.2865 - loss: 0.2865\n",
      "\u001b[1m469/469\u001b[0m \u001b[32m━━━━━━━━━━━━━━━━━━━━\u001b[0m\u001b[37m\u001b[0m \u001b[1m1s\u001b[0m 2ms/step - binary crossentropy: 0.1606 - loss: 0.1606\n",
      "--- Starting trial: run-18\n",
      "{'num_units': 20, 'dropout': 0.1, 'optimizer': 'nadam'}\n",
      "\u001b[1m875/875\u001b[0m \u001b[32m━━━━━━━━━━━━━━━━━━━━\u001b[0m\u001b[37m\u001b[0m \u001b[1m5s\u001b[0m 3ms/step - binary crossentropy: 0.2511 - loss: 0.2511\n",
      "\u001b[1m469/469\u001b[0m \u001b[32m━━━━━━━━━━━━━━━━━━━━\u001b[0m\u001b[37m\u001b[0m \u001b[1m2s\u001b[0m 3ms/step - binary crossentropy: 0.0884 - loss: 0.0884\n",
      "--- Starting trial: run-19\n",
      "{'num_units': 20, 'dropout': 0.1, 'optimizer': 'sgd'}\n",
      "\u001b[1m875/875\u001b[0m \u001b[32m━━━━━━━━━━━━━━━━━━━━\u001b[0m\u001b[37m\u001b[0m \u001b[1m3s\u001b[0m 3ms/step - binary crossentropy: 0.2811 - loss: 0.2811\n",
      "\u001b[1m469/469\u001b[0m \u001b[32m━━━━━━━━━━━━━━━━━━━━\u001b[0m\u001b[37m\u001b[0m \u001b[1m1s\u001b[0m 2ms/step - binary crossentropy: 0.1538 - loss: 0.1538\n",
      "--- Starting trial: run-20\n",
      "{'num_units': 20, 'dropout': 0.2, 'optimizer': 'nadam'}\n",
      "\u001b[1m875/875\u001b[0m \u001b[32m━━━━━━━━━━━━━━━━━━━━\u001b[0m\u001b[37m\u001b[0m \u001b[1m5s\u001b[0m 3ms/step - binary crossentropy: 0.2907 - loss: 0.2907\n",
      "\u001b[1m469/469\u001b[0m \u001b[32m━━━━━━━━━━━━━━━━━━━━\u001b[0m\u001b[37m\u001b[0m \u001b[1m1s\u001b[0m 2ms/step - binary crossentropy: 0.0935 - loss: 0.0935\n",
      "--- Starting trial: run-21\n",
      "{'num_units': 20, 'dropout': 0.2, 'optimizer': 'sgd'}\n",
      "\u001b[1m875/875\u001b[0m \u001b[32m━━━━━━━━━━━━━━━━━━━━\u001b[0m\u001b[37m\u001b[0m \u001b[1m3s\u001b[0m 3ms/step - binary crossentropy: 0.3005 - loss: 0.3005\n",
      "\u001b[1m469/469\u001b[0m \u001b[32m━━━━━━━━━━━━━━━━━━━━\u001b[0m\u001b[37m\u001b[0m \u001b[1m1s\u001b[0m 2ms/step - binary crossentropy: 0.1473 - loss: 0.1473\n",
      "--- Starting trial: run-22\n",
      "{'num_units': 20, 'dropout': 0.5, 'optimizer': 'nadam'}\n",
      "\u001b[1m875/875\u001b[0m \u001b[32m━━━━━━━━━━━━━━━━━━━━\u001b[0m\u001b[37m\u001b[0m \u001b[1m5s\u001b[0m 3ms/step - binary crossentropy: 0.3024 - loss: 0.3024\n",
      "\u001b[1m469/469\u001b[0m \u001b[32m━━━━━━━━━━━━━━━━━━━━\u001b[0m\u001b[37m\u001b[0m \u001b[1m1s\u001b[0m 2ms/step - binary crossentropy: 0.0975 - loss: 0.0975\n",
      "--- Starting trial: run-23\n",
      "{'num_units': 20, 'dropout': 0.5, 'optimizer': 'sgd'}\n",
      "\u001b[1m875/875\u001b[0m \u001b[32m━━━━━━━━━━━━━━━━━━━━\u001b[0m\u001b[37m\u001b[0m \u001b[1m4s\u001b[0m 3ms/step - binary crossentropy: 0.2850 - loss: 0.2850\n",
      "\u001b[1m469/469\u001b[0m \u001b[32m━━━━━━━━━━━━━━━━━━━━\u001b[0m\u001b[37m\u001b[0m \u001b[1m1s\u001b[0m 2ms/step - binary crossentropy: 0.1613 - loss: 0.1613\n"
     ]
    }
   ],
   "source": [
    "session_num = 0\n",
    "\n",
    "for num_units in HP_NUM_UNITS.domain.values:\n",
    "  for dropout_rate in (HP_DROPOUT.domain.values):\n",
    "    for optimizer in HP_OPTIMIZER.domain.values:\n",
    "      hparams = {\n",
    "          HP_NUM_UNITS: num_units,\n",
    "          HP_DROPOUT: dropout_rate,\n",
    "          HP_OPTIMIZER: optimizer,\n",
    "      }\n",
    "      run_name = \"run-%d\" % session_num\n",
    "      print('--- Starting trial: %s' % run_name)\n",
    "      print({h.name: hparams[h] for h in hparams})\n",
    "      run('def_bias/hparam_tuning/' + run_name, hparams)\n",
    "      session_num += 1"
   ]
  },
  {
   "cell_type": "code",
   "execution_count": 15,
   "id": "48134778-b4bf-46d4-91d5-a45fab315f9c",
   "metadata": {},
   "outputs": [
    {
     "data": {
      "text/html": [
       "\n",
       "      <iframe id=\"tensorboard-frame-7ac6da849ec52f42\" width=\"100%\" height=\"800\" frameborder=\"0\">\n",
       "      </iframe>\n",
       "      <script>\n",
       "        (function() {\n",
       "          const frame = document.getElementById(\"tensorboard-frame-7ac6da849ec52f42\");\n",
       "          const url = new URL(\"/\", window.location);\n",
       "          const port = 7935;\n",
       "          if (port) {\n",
       "            url.port = port;\n",
       "          }\n",
       "          frame.src = url;\n",
       "        })();\n",
       "      </script>\n",
       "    "
      ],
      "text/plain": [
       "<IPython.core.display.HTML object>"
      ]
     },
     "metadata": {},
     "output_type": "display_data"
    }
   ],
   "source": [
    "%tensorboard --logdir def_bias/hparam_tuning --host localhost --port 7935"
   ]
  },
  {
   "cell_type": "markdown",
   "id": "884b5cb3-404a-42a2-aeda-909d7716320d",
   "metadata": {},
   "source": [
    "From tensorboard, I get as the best combination the following:"
   ]
  },
  {
   "cell_type": "code",
   "execution_count": 9,
   "id": "addf710f-5f2d-4c96-ac51-0b1a2ca8191b",
   "metadata": {},
   "outputs": [],
   "source": [
    "tuned_num_units = 20\n",
    "tuned_dropout = 0.1\n",
    "tuned_optimizer = tf.keras.optimizers.Adam(learning_rate=0.001)"
   ]
  },
  {
   "cell_type": "markdown",
   "id": "853e2ac2-c5e1-46e7-9fba-f53b370ea3c0",
   "metadata": {},
   "source": [
    "### Model training\n",
    "Now, I create the multi layer perceptron that I will train to identify QSO. I use as metrics the binary crossentropy, the binary accuracy and the precision, and the binary crossentropy also as the loss function to minimize. I then recreate the model by selecting the tuned hyperparameters for each case."
   ]
  },
  {
   "cell_type": "code",
   "execution_count": 10,
   "id": "69ab06a6-aa7e-48ab-a32a-00667639c99d",
   "metadata": {},
   "outputs": [],
   "source": [
    "METRICS = [\n",
    "      keras.metrics.BinaryCrossentropy(name='cross entropy'),\n",
    "      keras.metrics.BinaryAccuracy(name='binary accuracy'),\n",
    "      keras.metrics.Precision(name='precision'),\n",
    "      \n",
    "    # same as model's loss\n",
    "]\n",
    "\n",
    "def make_model(metrics=METRICS, output_bias=None):\n",
    "  output_bias = tf.keras.initializers.Constant(initial_bias)\n",
    "  model = keras.Sequential([\n",
    "      tf.keras.layers.InputLayer(shape=(X_train.shape[-1],)),\n",
    "      keras.layers.Dense(\n",
    "          tuned_num_units, activation='relu',\n",
    "          ),\n",
    "      keras.layers.Dropout(tuned_dropout),\n",
    "      keras.layers.Dense(1, activation='sigmoid',\n",
    "                         bias_initializer=output_bias),\n",
    "  ])\n",
    "\n",
    "  model.compile(\n",
    "      optimizer=tuned_optimizer,\n",
    "      loss=keras.losses.BinaryCrossentropy(),\n",
    "      metrics=metrics)\n",
    "  #print(metrics)\n",
    "  return model"
   ]
  },
  {
   "cell_type": "code",
   "execution_count": 11,
   "id": "8a81ffec-ac84-4d08-a51e-4153454bff60",
   "metadata": {},
   "outputs": [
    {
     "data": {
      "text/html": [
       "<pre style=\"white-space:pre;overflow-x:auto;line-height:normal;font-family:Menlo,'DejaVu Sans Mono',consolas,'Courier New',monospace\"><span style=\"font-weight: bold\">Model: \"sequential\"</span>\n",
       "</pre>\n"
      ],
      "text/plain": [
       "\u001b[1mModel: \"sequential\"\u001b[0m\n"
      ]
     },
     "metadata": {},
     "output_type": "display_data"
    },
    {
     "data": {
      "text/html": [
       "<pre style=\"white-space:pre;overflow-x:auto;line-height:normal;font-family:Menlo,'DejaVu Sans Mono',consolas,'Courier New',monospace\">┏━━━━━━━━━━━━━━━━━━━━━━━━━━━━━━━━━━━━━━┳━━━━━━━━━━━━━━━━━━━━━━━━━━━━━┳━━━━━━━━━━━━━━━━━┓\n",
       "┃<span style=\"font-weight: bold\"> Layer (type)                         </span>┃<span style=\"font-weight: bold\"> Output Shape                </span>┃<span style=\"font-weight: bold\">         Param # </span>┃\n",
       "┡━━━━━━━━━━━━━━━━━━━━━━━━━━━━━━━━━━━━━━╇━━━━━━━━━━━━━━━━━━━━━━━━━━━━━╇━━━━━━━━━━━━━━━━━┩\n",
       "│ dense (<span style=\"color: #0087ff; text-decoration-color: #0087ff\">Dense</span>)                        │ (<span style=\"color: #00d7ff; text-decoration-color: #00d7ff\">None</span>, <span style=\"color: #00af00; text-decoration-color: #00af00\">20</span>)                  │             <span style=\"color: #00af00; text-decoration-color: #00af00\">100</span> │\n",
       "├──────────────────────────────────────┼─────────────────────────────┼─────────────────┤\n",
       "│ dropout (<span style=\"color: #0087ff; text-decoration-color: #0087ff\">Dropout</span>)                    │ (<span style=\"color: #00d7ff; text-decoration-color: #00d7ff\">None</span>, <span style=\"color: #00af00; text-decoration-color: #00af00\">20</span>)                  │               <span style=\"color: #00af00; text-decoration-color: #00af00\">0</span> │\n",
       "├──────────────────────────────────────┼─────────────────────────────┼─────────────────┤\n",
       "│ dense_1 (<span style=\"color: #0087ff; text-decoration-color: #0087ff\">Dense</span>)                      │ (<span style=\"color: #00d7ff; text-decoration-color: #00d7ff\">None</span>, <span style=\"color: #00af00; text-decoration-color: #00af00\">1</span>)                   │              <span style=\"color: #00af00; text-decoration-color: #00af00\">21</span> │\n",
       "└──────────────────────────────────────┴─────────────────────────────┴─────────────────┘\n",
       "</pre>\n"
      ],
      "text/plain": [
       "┏━━━━━━━━━━━━━━━━━━━━━━━━━━━━━━━━━━━━━━┳━━━━━━━━━━━━━━━━━━━━━━━━━━━━━┳━━━━━━━━━━━━━━━━━┓\n",
       "┃\u001b[1m \u001b[0m\u001b[1mLayer (type)                        \u001b[0m\u001b[1m \u001b[0m┃\u001b[1m \u001b[0m\u001b[1mOutput Shape               \u001b[0m\u001b[1m \u001b[0m┃\u001b[1m \u001b[0m\u001b[1m        Param #\u001b[0m\u001b[1m \u001b[0m┃\n",
       "┡━━━━━━━━━━━━━━━━━━━━━━━━━━━━━━━━━━━━━━╇━━━━━━━━━━━━━━━━━━━━━━━━━━━━━╇━━━━━━━━━━━━━━━━━┩\n",
       "│ dense (\u001b[38;5;33mDense\u001b[0m)                        │ (\u001b[38;5;45mNone\u001b[0m, \u001b[38;5;34m20\u001b[0m)                  │             \u001b[38;5;34m100\u001b[0m │\n",
       "├──────────────────────────────────────┼─────────────────────────────┼─────────────────┤\n",
       "│ dropout (\u001b[38;5;33mDropout\u001b[0m)                    │ (\u001b[38;5;45mNone\u001b[0m, \u001b[38;5;34m20\u001b[0m)                  │               \u001b[38;5;34m0\u001b[0m │\n",
       "├──────────────────────────────────────┼─────────────────────────────┼─────────────────┤\n",
       "│ dense_1 (\u001b[38;5;33mDense\u001b[0m)                      │ (\u001b[38;5;45mNone\u001b[0m, \u001b[38;5;34m1\u001b[0m)                   │              \u001b[38;5;34m21\u001b[0m │\n",
       "└──────────────────────────────────────┴─────────────────────────────┴─────────────────┘\n"
      ]
     },
     "metadata": {},
     "output_type": "display_data"
    },
    {
     "data": {
      "text/html": [
       "<pre style=\"white-space:pre;overflow-x:auto;line-height:normal;font-family:Menlo,'DejaVu Sans Mono',consolas,'Courier New',monospace\"><span style=\"font-weight: bold\"> Total params: </span><span style=\"color: #00af00; text-decoration-color: #00af00\">121</span> (484.00 B)\n",
       "</pre>\n"
      ],
      "text/plain": [
       "\u001b[1m Total params: \u001b[0m\u001b[38;5;34m121\u001b[0m (484.00 B)\n"
      ]
     },
     "metadata": {},
     "output_type": "display_data"
    },
    {
     "data": {
      "text/html": [
       "<pre style=\"white-space:pre;overflow-x:auto;line-height:normal;font-family:Menlo,'DejaVu Sans Mono',consolas,'Courier New',monospace\"><span style=\"font-weight: bold\"> Trainable params: </span><span style=\"color: #00af00; text-decoration-color: #00af00\">121</span> (484.00 B)\n",
       "</pre>\n"
      ],
      "text/plain": [
       "\u001b[1m Trainable params: \u001b[0m\u001b[38;5;34m121\u001b[0m (484.00 B)\n"
      ]
     },
     "metadata": {},
     "output_type": "display_data"
    },
    {
     "data": {
      "text/html": [
       "<pre style=\"white-space:pre;overflow-x:auto;line-height:normal;font-family:Menlo,'DejaVu Sans Mono',consolas,'Courier New',monospace\"><span style=\"font-weight: bold\"> Non-trainable params: </span><span style=\"color: #00af00; text-decoration-color: #00af00\">0</span> (0.00 B)\n",
       "</pre>\n"
      ],
      "text/plain": [
       "\u001b[1m Non-trainable params: \u001b[0m\u001b[38;5;34m0\u001b[0m (0.00 B)\n"
      ]
     },
     "metadata": {},
     "output_type": "display_data"
    }
   ],
   "source": [
    "model = make_model()\n",
    "model.summary()"
   ]
  },
  {
   "cell_type": "markdown",
   "id": "2828ad19-2649-4f67-9003-3537a083552d",
   "metadata": {},
   "source": [
    "Finally, I fit the model on my training data (scaled) and validate it with the validating data (scaled) for 20 epoques."
   ]
  },
  {
   "cell_type": "code",
   "execution_count": 12,
   "id": "e35ce7d7-86cd-445f-aa1a-960dac58e5ed",
   "metadata": {
    "scrolled": true
   },
   "outputs": [
    {
     "name": "stdout",
     "output_type": "stream",
     "text": [
      "Epoch 1/20\n",
      "\u001b[1m875/875\u001b[0m \u001b[32m━━━━━━━━━━━━━━━━━━━━\u001b[0m\u001b[37m\u001b[0m \u001b[1m6s\u001b[0m 4ms/step - binary accuracy: 0.9139 - cross entropy: 0.2426 - loss: 0.2426 - precision: 0.7833 - val_binary accuracy: 0.9820 - val_cross entropy: 0.0904 - val_loss: 0.0904 - val_precision: 0.9619\n",
      "Epoch 2/20\n",
      "\u001b[1m875/875\u001b[0m \u001b[32m━━━━━━━━━━━━━━━━━━━━\u001b[0m\u001b[37m\u001b[0m \u001b[1m3s\u001b[0m 3ms/step - binary accuracy: 0.9806 - cross entropy: 0.0835 - loss: 0.0835 - precision: 0.9542 - val_binary accuracy: 0.9827 - val_cross entropy: 0.0768 - val_loss: 0.0768 - val_precision: 0.9547\n",
      "Epoch 3/20\n",
      "\u001b[1m875/875\u001b[0m \u001b[32m━━━━━━━━━━━━━━━━━━━━\u001b[0m\u001b[37m\u001b[0m \u001b[1m3s\u001b[0m 3ms/step - binary accuracy: 0.9829 - cross entropy: 0.0754 - loss: 0.0754 - precision: 0.9546 - val_binary accuracy: 0.9832 - val_cross entropy: 0.0755 - val_loss: 0.0755 - val_precision: 0.9523\n",
      "Epoch 4/20\n",
      "\u001b[1m875/875\u001b[0m \u001b[32m━━━━━━━━━━━━━━━━━━━━\u001b[0m\u001b[37m\u001b[0m \u001b[1m3s\u001b[0m 3ms/step - binary accuracy: 0.9825 - cross entropy: 0.0704 - loss: 0.0704 - precision: 0.9546 - val_binary accuracy: 0.9820 - val_cross entropy: 0.0747 - val_loss: 0.0747 - val_precision: 0.9584\n",
      "Epoch 5/20\n",
      "\u001b[1m875/875\u001b[0m \u001b[32m━━━━━━━━━━━━━━━━━━━━\u001b[0m\u001b[37m\u001b[0m \u001b[1m3s\u001b[0m 3ms/step - binary accuracy: 0.9799 - cross entropy: 0.0787 - loss: 0.0787 - precision: 0.9433 - val_binary accuracy: 0.9819 - val_cross entropy: 0.0755 - val_loss: 0.0755 - val_precision: 0.9584\n",
      "Epoch 6/20\n",
      "\u001b[1m875/875\u001b[0m \u001b[32m━━━━━━━━━━━━━━━━━━━━\u001b[0m\u001b[37m\u001b[0m \u001b[1m3s\u001b[0m 4ms/step - binary accuracy: 0.9811 - cross entropy: 0.0779 - loss: 0.0779 - precision: 0.9487 - val_binary accuracy: 0.9830 - val_cross entropy: 0.0738 - val_loss: 0.0738 - val_precision: 0.9514\n",
      "Epoch 7/20\n",
      "\u001b[1m875/875\u001b[0m \u001b[32m━━━━━━━━━━━━━━━━━━━━\u001b[0m\u001b[37m\u001b[0m \u001b[1m3s\u001b[0m 4ms/step - binary accuracy: 0.9833 - cross entropy: 0.0646 - loss: 0.0646 - precision: 0.9519 - val_binary accuracy: 0.9829 - val_cross entropy: 0.0730 - val_loss: 0.0730 - val_precision: 0.9518\n",
      "Epoch 8/20\n",
      "\u001b[1m875/875\u001b[0m \u001b[32m━━━━━━━━━━━━━━━━━━━━\u001b[0m\u001b[37m\u001b[0m \u001b[1m3s\u001b[0m 4ms/step - binary accuracy: 0.9812 - cross entropy: 0.0721 - loss: 0.0721 - precision: 0.9459 - val_binary accuracy: 0.9832 - val_cross entropy: 0.0728 - val_loss: 0.0728 - val_precision: 0.9523\n",
      "Epoch 9/20\n",
      "\u001b[1m875/875\u001b[0m \u001b[32m━━━━━━━━━━━━━━━━━━━━\u001b[0m\u001b[37m\u001b[0m \u001b[1m4s\u001b[0m 4ms/step - binary accuracy: 0.9815 - cross entropy: 0.0736 - loss: 0.0736 - precision: 0.9454 - val_binary accuracy: 0.9837 - val_cross entropy: 0.0733 - val_loss: 0.0733 - val_precision: 0.9504\n",
      "Epoch 10/20\n",
      "\u001b[1m875/875\u001b[0m \u001b[32m━━━━━━━━━━━━━━━━━━━━\u001b[0m\u001b[37m\u001b[0m \u001b[1m3s\u001b[0m 4ms/step - binary accuracy: 0.9824 - cross entropy: 0.0700 - loss: 0.0700 - precision: 0.9517 - val_binary accuracy: 0.9836 - val_cross entropy: 0.0718 - val_loss: 0.0718 - val_precision: 0.9559\n",
      "Epoch 11/20\n",
      "\u001b[1m875/875\u001b[0m \u001b[32m━━━━━━━━━━━━━━━━━━━━\u001b[0m\u001b[37m\u001b[0m \u001b[1m3s\u001b[0m 4ms/step - binary accuracy: 0.9826 - cross entropy: 0.0714 - loss: 0.0714 - precision: 0.9513 - val_binary accuracy: 0.9829 - val_cross entropy: 0.0728 - val_loss: 0.0728 - val_precision: 0.9569\n",
      "Epoch 12/20\n",
      "\u001b[1m875/875\u001b[0m \u001b[32m━━━━━━━━━━━━━━━━━━━━\u001b[0m\u001b[37m\u001b[0m \u001b[1m4s\u001b[0m 4ms/step - binary accuracy: 0.9816 - cross entropy: 0.0703 - loss: 0.0703 - precision: 0.9483 - val_binary accuracy: 0.9832 - val_cross entropy: 0.0720 - val_loss: 0.0720 - val_precision: 0.9575\n",
      "Epoch 13/20\n",
      "\u001b[1m875/875\u001b[0m \u001b[32m━━━━━━━━━━━━━━━━━━━━\u001b[0m\u001b[37m\u001b[0m \u001b[1m3s\u001b[0m 4ms/step - binary accuracy: 0.9826 - cross entropy: 0.0695 - loss: 0.0695 - precision: 0.9535 - val_binary accuracy: 0.9835 - val_cross entropy: 0.0724 - val_loss: 0.0724 - val_precision: 0.9524\n",
      "Epoch 14/20\n",
      "\u001b[1m875/875\u001b[0m \u001b[32m━━━━━━━━━━━━━━━━━━━━\u001b[0m\u001b[37m\u001b[0m \u001b[1m3s\u001b[0m 4ms/step - binary accuracy: 0.9843 - cross entropy: 0.0635 - loss: 0.0635 - precision: 0.9543 - val_binary accuracy: 0.9835 - val_cross entropy: 0.0721 - val_loss: 0.0721 - val_precision: 0.9546\n",
      "Epoch 15/20\n",
      "\u001b[1m875/875\u001b[0m \u001b[32m━━━━━━━━━━━━━━━━━━━━\u001b[0m\u001b[37m\u001b[0m \u001b[1m3s\u001b[0m 4ms/step - binary accuracy: 0.9812 - cross entropy: 0.0706 - loss: 0.0706 - precision: 0.9493 - val_binary accuracy: 0.9838 - val_cross entropy: 0.0715 - val_loss: 0.0715 - val_precision: 0.9551\n",
      "Epoch 16/20\n",
      "\u001b[1m875/875\u001b[0m \u001b[32m━━━━━━━━━━━━━━━━━━━━\u001b[0m\u001b[37m\u001b[0m \u001b[1m4s\u001b[0m 4ms/step - binary accuracy: 0.9830 - cross entropy: 0.0694 - loss: 0.0694 - precision: 0.9513 - val_binary accuracy: 0.9837 - val_cross entropy: 0.0713 - val_loss: 0.0713 - val_precision: 0.9559\n",
      "Epoch 17/20\n",
      "\u001b[1m875/875\u001b[0m \u001b[32m━━━━━━━━━━━━━━━━━━━━\u001b[0m\u001b[37m\u001b[0m \u001b[1m3s\u001b[0m 4ms/step - binary accuracy: 0.9810 - cross entropy: 0.0753 - loss: 0.0753 - precision: 0.9498 - val_binary accuracy: 0.9837 - val_cross entropy: 0.0716 - val_loss: 0.0716 - val_precision: 0.9572\n",
      "Epoch 18/20\n",
      "\u001b[1m875/875\u001b[0m \u001b[32m━━━━━━━━━━━━━━━━━━━━\u001b[0m\u001b[37m\u001b[0m \u001b[1m3s\u001b[0m 4ms/step - binary accuracy: 0.9830 - cross entropy: 0.0679 - loss: 0.0679 - precision: 0.9528 - val_binary accuracy: 0.9840 - val_cross entropy: 0.0717 - val_loss: 0.0717 - val_precision: 0.9530\n",
      "Epoch 19/20\n",
      "\u001b[1m875/875\u001b[0m \u001b[32m━━━━━━━━━━━━━━━━━━━━\u001b[0m\u001b[37m\u001b[0m \u001b[1m4s\u001b[0m 4ms/step - binary accuracy: 0.9841 - cross entropy: 0.0667 - loss: 0.0667 - precision: 0.9518 - val_binary accuracy: 0.9839 - val_cross entropy: 0.0712 - val_loss: 0.0712 - val_precision: 0.9526\n",
      "Epoch 20/20\n",
      "\u001b[1m875/875\u001b[0m \u001b[32m━━━━━━━━━━━━━━━━━━━━\u001b[0m\u001b[37m\u001b[0m \u001b[1m3s\u001b[0m 4ms/step - binary accuracy: 0.9823 - cross entropy: 0.0677 - loss: 0.0677 - precision: 0.9498 - val_binary accuracy: 0.9839 - val_cross entropy: 0.0715 - val_loss: 0.0715 - val_precision: 0.9581\n"
     ]
    }
   ],
   "source": [
    "history = model.fit(X_train_scaled, y_train, epochs=20, validation_data=(X_val_scaled, y_val))"
   ]
  },
  {
   "cell_type": "markdown",
   "id": "413cb5b5-5765-418d-9109-523d535df0b5",
   "metadata": {},
   "source": [
    "### Model evaluating\n",
    "After I trained the model, I save the predictions on the various subsets to analyze the performance of my model."
   ]
  },
  {
   "cell_type": "code",
   "execution_count": 13,
   "id": "c83d1d43-6118-4644-aee7-88eef35a5982",
   "metadata": {},
   "outputs": [
    {
     "name": "stdout",
     "output_type": "stream",
     "text": [
      "\u001b[1m875/875\u001b[0m \u001b[32m━━━━━━━━━━━━━━━━━━━━\u001b[0m\u001b[37m\u001b[0m \u001b[1m2s\u001b[0m 2ms/step\n",
      "\u001b[1m469/469\u001b[0m \u001b[32m━━━━━━━━━━━━━━━━━━━━\u001b[0m\u001b[37m\u001b[0m \u001b[1m1s\u001b[0m 2ms/step\n",
      "\u001b[1m219/219\u001b[0m \u001b[32m━━━━━━━━━━━━━━━━━━━━\u001b[0m\u001b[37m\u001b[0m \u001b[1m1s\u001b[0m 2ms/step\n"
     ]
    }
   ],
   "source": [
    "train_predictions = model.predict(X_train_scaled)\n",
    "val_predictions = model.predict(X_val_scaled)\n",
    "test_predictions = model.predict(X_test_scaled)"
   ]
  },
  {
   "cell_type": "markdown",
   "id": "fb68e9bc-5aab-4772-a6ec-53dfdd4ee66f",
   "metadata": {},
   "source": [
    "I create a function to print a 2D confusion matrix as a figure"
   ]
  },
  {
   "cell_type": "code",
   "execution_count": 14,
   "id": "4c0e2f79-2e6a-47cc-8a2b-086fe95d0bb4",
   "metadata": {},
   "outputs": [],
   "source": [
    "def plot_cm(labels, predictions, threshold=0.5):\n",
    "  cm = confusion_matrix(labels, predictions > threshold)\n",
    "  plt.figure(figsize=(5,5))\n",
    "  sns.heatmap(cm, annot=True, fmt=\"d\")\n",
    "  plt.title('Confusion matrix with threshold = {:.2f}'.format(threshold))\n",
    "  plt.ylabel('Actual label')\n",
    "  plt.xlabel('Predicted label')\n",
    "\n",
    "  print('Galaxies correctly detected as galaxies (True Positives): ', cm[0][0])\n",
    "  print('Galaxies mistakely detected as QSO (False Positives): ', cm[0][1])\n",
    "  print('QSO mistakely detected as galaxies (False Negatives): ', cm[1][0])\n",
    "  print('QSO  correctly detected as QSO (True Negatives): ', cm[1][1])\n",
    "  print('Total galaxies: ', np.sum(cm[0]))\n",
    "  print('Total QSO: ', np.sum(cm[1]))"
   ]
  },
  {
   "cell_type": "markdown",
   "id": "a9ee969d-41cf-416f-bada-49d66cc11ace",
   "metadata": {},
   "source": [
    "First, I evaluate the loss of my model on the validation data. Then, I test the model to compute the confusion matrix associated with the validation data."
   ]
  },
  {
   "cell_type": "code",
   "execution_count": 15,
   "id": "f5bf1640-5f07-4b46-afcd-7b272b3d1b87",
   "metadata": {},
   "outputs": [
    {
     "name": "stdout",
     "output_type": "stream",
     "text": [
      "loss :  0.07153938710689545\n",
      "compile_metrics :  0.07153938710689545\n",
      "\n",
      "Galaxies correctly detected as galaxies (True Positives):  12723\n",
      "Galaxies mistakely detected as QSO (False Positives):  89\n",
      "QSO mistakely detected as galaxies (False Negatives):  153\n",
      "QSO  correctly detected as QSO (True Negatives):  2035\n",
      "Total galaxies:  12812\n",
      "Total QSO:  2188\n"
     ]
    },
    {
     "data": {
      "image/png": "[encoded data removed]",
      "text/plain": [
       "<Figure size 500x500 with 2 Axes>"
      ]
     },
     "metadata": {},
     "output_type": "display_data"
    }
   ],
   "source": [
    "val_results = model.evaluate(X_val_scaled, y_val, verbose=0)\n",
    "for name, value in zip(model.metrics_names, val_results):\n",
    "  print(name, ': ', value)\n",
    "print()\n",
    "\n",
    "plot_cm(y_val, val_predictions, threshold = 0.5)"
   ]
  },
  {
   "cell_type": "markdown",
   "id": "303aee0e-e308-4cc1-a647-90fd9b347997",
   "metadata": {},
   "source": [
    "Subsequently, I did the same for my test subset."
   ]
  },
  {
   "cell_type": "code",
   "execution_count": 16,
   "id": "f495f982-54a2-4337-a3e5-ca863c7f7f20",
   "metadata": {},
   "outputs": [
    {
     "name": "stdout",
     "output_type": "stream",
     "text": [
      "loss :  0.07157259434461594\n",
      "compile_metrics :  0.07157259434461594\n",
      "\n",
      "Galaxies correctly detected as galaxies (True Positives):  5966\n",
      "Galaxies mistakely detected as QSO (False Positives):  42\n",
      "QSO mistakely detected as galaxies (False Negatives):  82\n",
      "QSO  correctly detected as QSO (True Negatives):  910\n",
      "Total galaxies:  6008\n",
      "Total QSO:  992\n"
     ]
    },
    {
     "data": {
      "image/png": "[encoded data removed]",
      "text/plain": [
       "<Figure size 500x500 with 2 Axes>"
      ]
     },
     "metadata": {},
     "output_type": "display_data"
    }
   ],
   "source": [
    "test_results = model.evaluate(X_test_scaled, y_test, verbose=0)\n",
    "for name, value in zip(model.metrics_names, test_results):\n",
    "  print(name, ': ', value)\n",
    "print()\n",
    "\n",
    "plot_cm(y_test, test_predictions, threshold = 0.5)"
   ]
  },
  {
   "cell_type": "markdown",
   "id": "fc96aed5-6b18-4fc0-855e-bf953184639e",
   "metadata": {},
   "source": [
    "Finally, I used the history of my model to compute the metric performances and the loss of my model at each epoque."
   ]
  },
  {
   "cell_type": "code",
   "execution_count": 17,
   "id": "2cc2183c-4648-4bb7-ab96-090393724f6a",
   "metadata": {},
   "outputs": [
    {
     "data": {
      "image/png": "[encoded data removed]",
      "text/plain": [
       "<Figure size 1000x600 with 2 Axes>"
      ]
     },
     "metadata": {},
     "output_type": "display_data"
    }
   ],
   "source": [
    "fig = plt.figure(figsize = (10,6))\n",
    "ax = fig.add_subplot(121)\n",
    "ax.plot(history.history['binary accuracy'])\n",
    "ax.plot(history.history['val_binary accuracy'])\n",
    "ax.set_title('model binary accuracy')\n",
    "ax.set_ylabel('binary accuracy')\n",
    "ax.set_xlabel('epoch')\n",
    "ax.legend(['train', 'val'], loc='upper left')\n",
    "\n",
    "ax1 = fig.add_subplot(122)\n",
    "ax1.plot(history.history['precision'])\n",
    "ax1.plot(history.history['val_precision'])\n",
    "ax1.set_title('model precision')\n",
    "ax1.set_ylabel('precision')\n",
    "ax1.set_xlabel('epoch')\n",
    "ax1.legend(['train', 'val'], loc='upper left')\n",
    "\n",
    "plt.show()"
   ]
  },
  {
   "cell_type": "code",
   "execution_count": 18,
   "id": "9bc3fe7e-652b-4c49-9d7c-2c5d54a2c964",
   "metadata": {},
   "outputs": [
    {
     "data": {
      "image/png": "[encoded data removed]",
      "text/plain": [
       "<Figure size 640x480 with 1 Axes>"
      ]
     },
     "metadata": {},
     "output_type": "display_data"
    }
   ],
   "source": [
    "plt.plot(history.history['loss'])\n",
    "plt.plot(history.history['val_loss'])\n",
    "plt.title('model loss')\n",
    "plt.ylabel('loss')\n",
    "plt.xlabel('epoch')\n",
    "plt.legend(['train', 'val'], loc='upper left')\n",
    "plt.show()"
   ]
  },
  {
   "cell_type": "markdown",
   "id": "7a807571-d9a0-44a2-bf35-7121c9fd4550",
   "metadata": {},
   "source": [
    "Here, I print the report of the performance of my model on the test subset."
   ]
  },
  {
   "cell_type": "code",
   "execution_count": 19,
   "id": "5e1d0749-3a99-4147-a7cd-b0e2b1238250",
   "metadata": {},
   "outputs": [
    {
     "name": "stdout",
     "output_type": "stream",
     "text": [
      "\u001b[1m219/219\u001b[0m \u001b[32m━━━━━━━━━━━━━━━━━━━━\u001b[0m\u001b[37m\u001b[0m \u001b[1m0s\u001b[0m 2ms/step\n",
      "              precision    recall  f1-score   support\n",
      "\n",
      "           0       0.99      0.99      0.99      6008\n",
      "           1       0.96      0.92      0.94       992\n",
      "\n",
      "    accuracy                           0.98      7000\n",
      "   macro avg       0.97      0.96      0.96      7000\n",
      "weighted avg       0.98      0.98      0.98      7000\n",
      "\n"
     ]
    }
   ],
   "source": [
    "from sklearn.metrics import classification_report\n",
    "\n",
    "report = classification_report(y_test, model.predict(X_test_scaled) > 0.5)\n",
    "print(report)   "
   ]
  },
  {
   "cell_type": "markdown",
   "id": "adba4826-ff27-4bfe-8008-4181fe99e6b4",
   "metadata": {},
   "source": [
    "Plot curve associated with the model."
   ]
  },
  {
   "cell_type": "code",
   "execution_count": 20,
   "id": "698d7de7-4a97-48d1-a837-17ff53ca34e8",
   "metadata": {},
   "outputs": [
    {
     "name": "stdout",
     "output_type": "stream",
     "text": [
      "\u001b[1m219/219\u001b[0m \u001b[32m━━━━━━━━━━━━━━━━━━━━\u001b[0m\u001b[37m\u001b[0m \u001b[1m1s\u001b[0m 2ms/step\n"
     ]
    },
    {
     "name": "stderr",
     "output_type": "stream",
     "text": [
      "No artists with labels found to put in legend.  Note that artists whose label start with an underscore are ignored when legend() is called with no argument.\n"
     ]
    },
    {
     "data": {
      "text/plain": [
       "(0.92, 1.0)"
      ]
     },
     "execution_count": 20,
     "metadata": {},
     "output_type": "execute_result"
    },
    {
     "data": {
      "image/png": "[encoded data removed]",
      "text/plain": [
       "<Figure size 640x480 with 1 Axes>"
      ]
     },
     "metadata": {},
     "output_type": "display_data"
    }
   ],
   "source": [
    "fpr, tpr, threshold = roc_curve(y_test, model.predict(X_test_scaled))\n",
    "roc_display = RocCurveDisplay(fpr=fpr, tpr=tpr).plot()\n",
    "plt.ylim(0.92, 1.0)"
   ]
  }
 ],
 "metadata": {
  "kernelspec": {
   "display_name": "Python 3 (ipykernel)",
   "language": "python",
   "name": "python3"
  },
  "language_info": {
   "codemirror_mode": {
    "name": "ipython",
    "version": 3
   },
   "file_extension": ".py",
   "mimetype": "text/x-python",
   "name": "python",
   "nbconvert_exporter": "python",
   "pygments_lexer": "ipython3",
   "version": "3.11.6"
  }
 },
 "nbformat": 4,
 "nbformat_minor": 5
}
